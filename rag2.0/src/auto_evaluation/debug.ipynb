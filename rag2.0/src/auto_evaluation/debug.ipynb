{
 "cells": [
  {
   "cell_type": "code",
   "execution_count": 1,
   "id": "88110b39-6eff-4b63-86c1-3774af325d6d",
   "metadata": {},
   "outputs": [],
   "source": [
    "import torch\n",
    "import sys, os, re\n",
    "import pandas as pd\n",
    "import time\n",
    "import argparse\n",
    "from transformers import LlamaTokenizer, LlamaForCausalLM, GenerationConfig, AutoModelForCausalLM, AutoTokenizer\n",
    "import json\n",
    "import torch.multiprocessing as mp\n",
    "import numpy as np\n",
    "\n",
    "sys.path.append(\"../\") \n",
    "from tool_rag_generation.data_format import DataFormat\n",
    "\n",
    "sys.path.append(\"../../\") \n",
    "from common import utils_log,utils"
   ]
  },
  {
   "cell_type": "code",
   "execution_count": 2,
   "id": "509342a7-98f3-4916-9f82-93e0104df009",
   "metadata": {},
   "outputs": [],
   "source": [
    "folder = '/mnt/pfs-guan-ssai/nlu/data/renhuimin/pro_rag/data/eval_data/v20240717/'"
   ]
  },
  {
   "cell_type": "code",
   "execution_count": 6,
   "id": "65bf626f-c585-4180-a845-12cd8ccb798b",
   "metadata": {},
   "outputs": [
    {
     "name": "stdout",
     "output_type": "stream",
     "text": [
      "API数量与OBS数量不对应:2 vs 1\n",
      "API数量与OBS数量不对应:2 vs 1\n",
      "API数量与OBS数量不对应:2 vs 1\n",
      "API数量与OBS数量不对应:2 vs 1\n",
      "API数量与OBS数量不对应:2 vs 1\n",
      "API数量与OBS数量不对应:2 vs 1\n",
      "API数量与OBS数量不对应:2 vs 1\n",
      "API数量与OBS数量不对应:2 vs 1\n",
      "API数量与OBS数量不对应:2 vs 1\n",
      "API数量与OBS数量不对应:2 vs 1\n",
      "API数量与OBS数量不对应:2 vs 1\n",
      "API数量与OBS数量不对应:2 vs 1\n",
      "API数量与OBS数量不对应:2 vs 1\n",
      "API数量与OBS数量不对应:2 vs 1\n",
      "API数量与OBS数量不对应:2 vs 1\n",
      "API数量与OBS数量不对应:2 vs 1\n",
      "API数量与OBS数量不对应:2 vs 1\n",
      "API数量与OBS数量不对应:2 vs 1\n",
      "API数量与OBS数量不对应:2 vs 1\n",
      "API数量与OBS数量不对应:2 vs 1\n",
      "API数量与OBS数量不对应:2 vs 1\n",
      "API数量与OBS数量不对应:2 vs 1\n",
      "API数量与OBS数量不对应:2 vs 1\n",
      "API数量与OBS数量不对应:2 vs 1\n",
      "API数量与OBS数量不对应:2 vs 1\n",
      "API数量与OBS数量不对应:2 vs 1\n",
      "API数量与OBS数量不对应:2 vs 1\n",
      "API数量与OBS数量不对应:2 vs 1\n",
      "sft 数量： 200\n"
     ]
    }
   ],
   "source": [
    "df = utils.preprocess_df(folder+'测试集_汽车问答表格2.csv')\n",
    "dataformat_obj = DataFormat(api_flag=True,multi_flag=False)\n",
    "dev_data = dataformat_obj.gen_sft_data(df,flag_16b_inputs=True)"
   ]
  },
  {
   "cell_type": "code",
   "execution_count": null,
   "id": "966b0ab5-c4b9-4bb9-b389-ab0f1d49cda6",
   "metadata": {},
   "outputs": [],
   "source": []
  }
 ],
 "metadata": {
  "kernelspec": {
   "display_name": "rhm_env",
   "language": "python",
   "name": "rhm_env"
  },
  "language_info": {
   "codemirror_mode": {
    "name": "ipython",
    "version": 3
   },
   "file_extension": ".py",
   "mimetype": "text/x-python",
   "name": "python",
   "nbconvert_exporter": "python",
   "pygments_lexer": "ipython3",
   "version": "3.11.4"
  }
 },
 "nbformat": 4,
 "nbformat_minor": 5
}
