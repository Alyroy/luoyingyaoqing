{
 "cells": [
  {
   "cell_type": "code",
   "execution_count": 31,
   "id": "51c0e7dc-a976-4985-ac2f-2b4b335725f4",
   "metadata": {},
   "outputs": [],
   "source": [
    "import sys \n",
    "import re\n",
    "import ast\n",
    "import pandas as pd\n",
    "from data_format import DataFormat,gen_multi_sft_data\n",
    "sys.path.append(\"../..\") \n",
    "from common import utils_log,utils"
   ]
  },
  {
   "cell_type": "code",
   "execution_count": 2,
   "id": "106a706a-cb8a-4349-9bf2-90264a7cbcfc",
   "metadata": {},
   "outputs": [],
   "source": [
    "# date_folder = 'v20240607/'\n",
    "input_load_folder = '/workspace/renhuimin/pro_qa/data/train_data/csv/business/general/'\n",
    "output_load_folder = '/mnt/pfs-guan-ssai/nlu/data/renhuimin/pro_rag/data/train_data/jsonl/v20240715_new_rag_test/'"
   ]
  },
  {
   "cell_type": "code",
   "execution_count": 5,
   "id": "1eed7ba3-4f24-49fe-82e9-ce27c2623623",
   "metadata": {},
   "outputs": [],
   "source": [
    "# 通用问答\n",
    "input_paths = [input_load_folder+'通用问答语料库 - 人物百科.csv',\n",
    "               input_load_folder+'通用问答语料库 - 诗词歌词.csv',\n",
    "               # input_load_folder+'通用问答语料库 - 通用问答不相关.csv',\n",
    "               input_load_folder+'通用问答语料库 - 通用问答卡片.csv',\n",
    "               input_load_folder+'通用问答语料库 - 通用问答相关非卡片-数字专项.csv',\n",
    "               input_load_folder+'通用问答语料库 - 通用问答相关非卡片.csv',\n",
    "               input_load_folder+'通用问答语料库 - 为什么不.csv',\n",
    "               input_load_folder+'通用问答语料库 - 线上日志.csv',\n",
    "               input_load_folder+'通用问答语料库 - 影视百科.csv',\n",
    "               input_load_folder+'通用问答语料库 - obs时间理解.csv',\n",
    "               input_load_folder+'通用问答语料库 - obs一词多义.csv',\n",
    "               input_load_folder+'通用问答语料库 - P0123.csv',\n",
    "               input_load_folder+'通用问答语料库 - RAG知乎.csv']\n",
    "\n",
    "utils.create_directory(output_load_folder + 'general/')\n",
    "output_paths = [output_load_folder+'general/baikePPl-single.jsonl',\n",
    "                output_load_folder+'general/poem-single.jsonl',\n",
    "                # output_load_folder+'general/irrelevant-single.jsonl',\n",
    "                output_load_folder+'general/brCard-single.jsonl',\n",
    "                output_load_folder+'general/digits-single.jsonl',\n",
    "                output_load_folder+'general/general-single.jsonl',\n",
    "                output_load_folder+'general/whynot-single.jsonl',\n",
    "                output_load_folder+'general/onlineLog-single.jsonl',\n",
    "                output_load_folder+'general/baikeMovie-single.jsonl',\n",
    "                output_load_folder+'general/obsTime-single.jsonl',\n",
    "                output_load_folder+'general/obsQiyi-single.jsonl',\n",
    "                output_load_folder+'general/p0123-single.jsonl',\n",
    "                output_load_folder+'general/zhihu-single.jsonl']\n",
    "\n"
   ]
  },
  {
   "cell_type": "code",
   "execution_count": 6,
   "id": "7afcd8aa-3326-4544-b203-b057ba8eda1c",
   "metadata": {
    "scrolled": true
   },
   "outputs": [
    {
     "name": "stdout",
     "output_type": "stream",
     "text": [
      "/workspace/renhuimin/pro_qa/data/train_data/csv/business/general/通用问答语料库 - 人物百科.csv\n",
      "sft 数量： 2588\n",
      "/workspace/renhuimin/pro_qa/data/train_data/csv/business/general/通用问答语料库 - 诗词歌词.csv\n",
      "sft 数量： 467\n",
      "/workspace/renhuimin/pro_qa/data/train_data/csv/business/general/通用问答语料库 - 通用问答卡片.csv\n",
      "sft 数量： 710\n",
      "/workspace/renhuimin/pro_qa/data/train_data/csv/business/general/通用问答语料库 - 通用问答相关非卡片-数字专项.csv\n",
      "sft 数量： 4843\n",
      "/workspace/renhuimin/pro_qa/data/train_data/csv/business/general/通用问答语料库 - 通用问答相关非卡片.csv\n",
      "sft 数量： 7757\n",
      "/workspace/renhuimin/pro_qa/data/train_data/csv/business/general/通用问答语料库 - 为什么不.csv\n",
      "sft 数量： 59\n",
      "/workspace/renhuimin/pro_qa/data/train_data/csv/business/general/通用问答语料库 - 线上日志.csv\n",
      "sft 数量： 1513\n",
      "/workspace/renhuimin/pro_qa/data/train_data/csv/business/general/通用问答语料库 - 影视百科.csv\n",
      "sft 数量： 1944\n",
      "/workspace/renhuimin/pro_qa/data/train_data/csv/business/general/通用问答语料库 - obs时间理解.csv\n",
      "sft 数量： 1492\n",
      "/workspace/renhuimin/pro_qa/data/train_data/csv/business/general/通用问答语料库 - obs一词多义.csv\n",
      "sft 数量： 120\n",
      "/workspace/renhuimin/pro_qa/data/train_data/csv/business/general/通用问答语料库 - P0123.csv\n",
      "sft 数量： 1220\n",
      "/workspace/renhuimin/pro_qa/data/train_data/csv/business/general/通用问答语料库 - RAG知乎.csv\n",
      "sft 数量： 3509\n"
     ]
    },
    {
     "name": "stderr",
     "output_type": "stream",
     "text": [
      "100%|██████████| 1294/1294 [00:00<00:00, 3418.40output/s]\n",
      "100%|██████████| 233/233 [00:00<00:00, 4041.96output/s]\n",
      "100%|██████████| 355/355 [00:00<00:00, 3126.49output/s]\n",
      "100%|██████████| 2421/2421 [00:00<00:00, 4305.88output/s]\n",
      "100%|██████████| 3878/3878 [00:00<00:00, 4876.89output/s]\n",
      "100%|██████████| 29/29 [00:00<00:00, 3330.36output/s]\n",
      "100%|██████████| 756/756 [00:00<00:00, 3794.95output/s]\n",
      "100%|██████████| 972/972 [00:00<00:00, 4069.09output/s]\n",
      "100%|██████████| 746/746 [00:00<00:00, 3890.70output/s]\n",
      "100%|██████████| 60/60 [00:00<00:00, 4823.44output/s]\n",
      "100%|██████████| 610/610 [00:00<00:00, 4314.26output/s]\n",
      "100%|██████████| 1754/1754 [00:00<00:00, 4368.35output/s]\n",
      "100%|██████████| 1294/1294 [00:00<00:00, 2243.80output/s]\n",
      "100%|██████████| 233/233 [00:00<00:00, 2824.84output/s]\n",
      "100%|██████████| 355/355 [00:00<00:00, 2830.76output/s]\n",
      "100%|██████████| 2421/2421 [00:01<00:00, 2268.24output/s]\n",
      "100%|██████████| 3878/3878 [00:01<00:00, 2650.76output/s]\n",
      "100%|██████████| 29/29 [00:00<00:00, 2781.62output/s]\n",
      "100%|██████████| 756/756 [00:00<00:00, 2818.85output/s]\n",
      "100%|██████████| 972/972 [00:00<00:00, 2552.36output/s]\n",
      "100%|██████████| 746/746 [00:00<00:00, 2749.93output/s]\n",
      "100%|██████████| 60/60 [00:00<00:00, 2592.04output/s]\n",
      "100%|██████████| 610/610 [00:00<00:00, 2847.57output/s]\n",
      "100%|██████████| 1754/1754 [00:00<00:00, 2887.67output/s]\n"
     ]
    }
   ],
   "source": [
    "dataformat_obj = DataFormat(api_flag=True,multi_flag=False)\n",
    "\n",
    "for i in range(len(input_paths)):\n",
    "    print(input_paths[i])\n",
    "    df = utils.preprocess_df(input_paths[i])\n",
    "    sft_df = dataformat_obj.gen_sft_data(df)\n",
    "    sft_df.to_json(output_paths[i], orient='records', lines=True, force_ascii=False)\n",
    "\n",
    "gen_multi_sft_data(output_load_folder,output_paths,category='general',output_num=0.5) "
   ]
  },
  {
   "cell_type": "code",
   "execution_count": 7,
   "id": "8c6151f0-c3ef-43f9-82ea-edb0e73c55c6",
   "metadata": {},
   "outputs": [
    {
     "name": "stdout",
     "output_type": "stream",
     "text": [
      "sft 数量： 714\n"
     ]
    }
   ],
   "source": [
    "input_load_folder = '/workspace/renhuimin/pro_qa/data/train_data/csv/business/entertainment/'\n",
    "output_load_folder = '/mnt/pfs-guan-ssai/nlu/data/renhuimin/pro_rag/data/train_data/jsonl/v20240715_new_rag_test/'\n",
    "input_path = input_load_folder+'娱乐助手语料库 - 多轮.csv'\n",
    "output_path = output_load_folder+'sports_multi.jsonl'\n",
    "dataformat_obj = DataFormat(api_flag=True,multi_flag=True)\n",
    "df = utils.preprocess_df(input_path)\n",
    "sft_df = dataformat_obj.gen_sft_data(df)\n",
    "sft_df.to_json(output_path, orient='records', lines=True, force_ascii=False)"
   ]
  },
  {
   "cell_type": "code",
   "execution_count": 50,
   "id": "f918376b-ac6d-4df9-942b-9400236a3dd3",
   "metadata": {},
   "outputs": [],
   "source": [
    "folder = '/workspace/renhuimin/pro_rag/data/distillation_data/v20240727_child/'\n",
    "file = folder + 'gpt4_results/' + 'gpt4_obs_child_reason_data.txt.xlsx'\n",
    "df = pd.read_excel(file)"
   ]
  },
  {
   "cell_type": "code",
   "execution_count": null,
   "id": "bc8d765f-f8c3-4b92-a5a7-c4cb9698330f",
   "metadata": {},
   "outputs": [],
   "source": []
  }
 ],
 "metadata": {
  "kernelspec": {
   "display_name": "rhm_env",
   "language": "python",
   "name": "rhm_env"
  },
  "language_info": {
   "codemirror_mode": {
    "name": "ipython",
    "version": 3
   },
   "file_extension": ".py",
   "mimetype": "text/x-python",
   "name": "python",
   "nbconvert_exporter": "python",
   "pygments_lexer": "ipython3",
   "version": "3.11.4"
  }
 },
 "nbformat": 4,
 "nbformat_minor": 5
}
