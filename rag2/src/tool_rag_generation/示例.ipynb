{
 "cells": [
  {
   "cell_type": "code",
   "execution_count": 31,
   "id": "51c0e7dc-a976-4985-ac2f-2b4b335725f4",
   "metadata": {},
   "outputs": [],
   "source": [
    "import sys \n",
    "import re\n",
    "import ast\n",
    "import pandas as pd\n",
    "from data_format import DataFormat,gen_multi_sft_data\n",
    "sys.path.append(\"../../\") \n",
    "from common import utils_log,utils"
   ]
  },
  {
   "cell_type": "markdown",
   "id": "c18d6988-5696-43e1-a0d9-d56f378545c6",
   "metadata": {},
   "source": [
    "### 使用说明\n",
    "1. 支持 RAG、非RAG，单轮、多轮 csv数据 转jsonl数据（sft中间训练格式, <|xxx|> special token）\n",
    "2. 支持 RAG、非RAG，单轮、多轮 csv数据 转json数据（模型训练最终格式，instruction)\n",
    "\n",
    "### 参数说明\n",
    "1. df中必须字段：id, source, user-query, thought, api, observation, assistant\n",
    "2. dataformat_obj = DataFormat(api_flag: boolean, multi_flag: boolean) # 数据需拆分RAG、非RAG、单轮、多轮\n",
    "3. dataformat_obj.gen_sft_data(df) # 生成jsonl\n",
    "4. dataformat_obj.gen_sft_unused_data(df) # 生成最终训练数据格式 json\n",
    "5.  dataformat_obj.gen_dpo_unused_data(df) # 生成最终训练数据格式，必须包含chosen，rejected字段"
   ]
  },
  {
   "cell_type": "code",
   "execution_count": 2,
   "id": "106a706a-cb8a-4349-9bf2-90264a7cbcfc",
   "metadata": {},
   "outputs": [],
   "source": [
    "input_load_folder = '/data/csv_data/'\n",
    "output_load_folder = '/data/jsonl_data/'\n",
    "utils.create_directory(output_load_folder)"
   ]
  },
  {
   "cell_type": "code",
   "execution_count": 5,
   "id": "1eed7ba3-4f24-49fe-82e9-ce27c2623623",
   "metadata": {},
   "outputs": [],
   "source": [
    "input_paths = [input_load_folder+'训练数据_时效性摘要_0814数据清洗_单轮_487.csv']\n",
    "output_paths = [output_load_folder+'abstract_time_0814_refine_487_single.jsonl']\n",
    "\n",
    "dataformat_obj = DataFormat(api_flag=True,multi_flag=False) # RAG 单轮\n",
    "for i in range(len(input_paths)):\n",
    "    print(input_paths[i])\n",
    "    df = utils.preprocess_df(input_paths[i])\n",
    "    sft_df = dataformat_obj.gen_sft_data(df)\n",
    "    sft_df.to_json(output_paths[i], orient='records', lines=True, force_ascii=False)\n",
    "\n",
    "\n",
    "\n",
    "input_paths = [input_load_folder+'训练数据_时效性摘要_0814数据清洗_多轮_915.csv']\n",
    "output_paths = [output_load_folder+'abstract_time_0814_refine_915_multi.jsonl']\n",
    "dataformat_obj = DataFormat(api_flag=True,multi_flag=True) # RAG 多轮\n",
    "for i in range(len(input_paths)):\n",
    "    print(input_paths[i])\n",
    "    df = utils.preprocess_df(input_paths[i])\n",
    "    sft_df = dataformat_obj.gen_sft_data(df)\n",
    "    sft_df.to_json(output_paths[i], orient='records', lines=True, force_ascii=False)\n",
    "\n",
    "\n",
    "\n",
    "input_paths = [input_load_folder+'儿童不引导数据-100.csv'] # 非RAG 多轮\n",
    "output_paths = [output_load_folder+'childGuide-noRAG-multi-reject_100.jsonl']\n",
    "dataformat_obj = DataFormat(api_flag=False,multi_flag=True)\n",
    "for i in range(len(input_paths)):\n",
    "    print(input_paths[i])\n",
    "    df = utils.preprocess_df(input_paths[i])\n",
    "    sft_df = dataformat_obj.gen_sft_data(df)\n",
    "    sft_df.to_json(output_paths[i], orient='records', lines=True, force_ascii=False)\n"
   ]
  },
  {
   "cell_type": "code",
   "execution_count": null,
   "id": "bc8d765f-f8c3-4b92-a5a7-c4cb9698330f",
   "metadata": {},
   "outputs": [],
   "source": []
  }
 ],
 "metadata": {
  "kernelspec": {
   "display_name": "rhm_env",
   "language": "python",
   "name": "rhm_env"
  },
  "language_info": {
   "codemirror_mode": {
    "name": "ipython",
    "version": 3
   },
   "file_extension": ".py",
   "mimetype": "text/x-python",
   "name": "python",
   "nbconvert_exporter": "python",
   "pygments_lexer": "ipython3",
   "version": "3.11.4"
  }
 },
 "nbformat": 4,
 "nbformat_minor": 5
}
