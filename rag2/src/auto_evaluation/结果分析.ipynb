{
 "cells": [
  {
   "cell_type": "code",
   "execution_count": 2,
   "id": "caa8f0e7-71af-4691-b46e-7234358e0445",
   "metadata": {},
   "outputs": [],
   "source": [
    "import pandas as pd\n",
    "from cal_score import main\n",
    "import os"
   ]
  },
  {
   "cell_type": "code",
   "execution_count": 14,
   "id": "97ad05cd-dbcb-4334-8287-1de5ace9c63d",
   "metadata": {},
   "outputs": [],
   "source": [
    "def cal_kejie_truth_score(folder):\n",
    "    file = [f for f in os.listdir(folder) if 'authenticity.csv' in f and '.ipy' not in f][0]\n",
    "    df = pd.read_csv(os.path.join(folder,file))\n",
    "    score = df[df['搜索P@10新加测试结果_人工']==1]['真实性打分'].mean()\n",
    "    business_res = df.groupby('业务类型')['真实性打分'].mean()\n",
    "    print('真实性分数：',score)\n",
    "    print(business_res)"
   ]
  },
  {
   "cell_type": "code",
   "execution_count": 16,
   "id": "1d7bfd84-c3b4-4ae7-b2b3-144daf9cfe07",
   "metadata": {
    "scrolled": true
   },
   "outputs": [
    {
     "name": "stdout",
     "output_type": "stream",
     "text": [
      "heqing 0814\n",
      "真实性分数： 0.8688524590163934\n",
      "业务类型\n",
      "出游      0.884615\n",
      "娱乐助手    0.846154\n",
      "汽车问答    0.774920\n",
      "问答      0.906005\n",
      "Name: 真实性打分, dtype: float64\n",
      "\n",
      "with prompt\n",
      "真实性分数： 0.8780737704918032\n",
      "业务类型\n",
      "出游      0.942308\n",
      "娱乐助手    0.794872\n",
      "汽车问答    0.816720\n",
      "问答      0.895561\n",
      "Name: 真实性打分, dtype: float64\n",
      "\n",
      "no app\n",
      "真实性分数： 0.8790983606557377\n",
      "业务类型\n",
      "出游      0.910256\n",
      "娱乐助手    0.836538\n",
      "汽车问答    0.829582\n",
      "问答      0.906005\n",
      "Name: 真实性打分, dtype: float64\n"
     ]
    }
   ],
   "source": [
    "folder1 = '/mnt/pfs-guan-ssai/nlu/gongwuxuan/code/personal_dev_tool/myData/output/moe-4935-0818结果集-rhm-0827/评估脚本打分'\n",
    "folder2 = '/mnt/pfs-guan-ssai/nlu/gongwuxuan/code/personal_dev_tool/myData/output/moe0827_sft_with_prompt_0827/评估脚本打分'\n",
    "folder3 = '/mnt/pfs-guan-ssai/nlu/gongwuxuan/code/personal_dev_tool/myData/output/moe0827_sft_noapp_rhm_0827/评估脚本打分'\n",
    "\n",
    "print('heqing 0814')\n",
    "cal_kejie_truth_score(folder1)\n",
    "print()\n",
    "print('with prompt')\n",
    "cal_kejie_truth_score(folder2)\n",
    "print()\n",
    "print('no app')\n",
    "cal_kejie_truth_score(folder3)"
   ]
  },
  {
   "cell_type": "code",
   "execution_count": null,
   "id": "ad3f9874-b813-4a14-9463-19cdd8cdd334",
   "metadata": {},
   "outputs": [],
   "source": []
  },
  {
   "cell_type": "code",
   "execution_count": 5,
   "id": "c51601be-551a-440c-a2e3-b07bf58de4c0",
   "metadata": {},
   "outputs": [
    {
     "name": "stdout",
     "output_type": "stream",
     "text": [
      "nms_0.85.csv.scb_0804_selected_auto_eval_authenticity.csv 真实性打分 0.840317100792752\n",
      "re_order.csv.scb_0804_selected_auto_eval_authenticity.csv 真实性打分 0.8108720271800679\n",
      "trunc.csv.scb_0804_selected_auto_eval_authenticity.csv 真实性打分 0.8323895809739524\n",
      "手机APP_泛化集_人工_2024-07-30.csv.moe_dpo_0802_auto_eval_authenticity.csv 真实性打分 0.8529155787641427\n"
     ]
    }
   ],
   "source": [
    "folder = '/mnt/pfs-guan-ssai/nlu/renhuimin/rag_tool/rag2.0/data/test_data/scb_0804_selected/真实性打分_gpt4_0804_dpo/'\n",
    "eval_col = 'gpt4o_eval_response'\n",
    "eval_metric = '真实性'\n",
    "main(folder, eval_col, eval_metric)"
   ]
  },
  {
   "cell_type": "code",
   "execution_count": 3,
   "id": "5cfcb48c-65cc-47d8-9fba-7a27e2ac2ea4",
   "metadata": {},
   "outputs": [
    {
     "name": "stdout",
     "output_type": "stream",
     "text": [
      "nms_0.85.csv.scb_0804_selected_auto_eval_relevance.csv 相关性打分 0.7893544733861835\n",
      "re_order.csv.scb_0804_selected_auto_eval_relevance.csv 相关性打分 0.7576443941109853\n",
      "trunc.csv.scb_0804_selected_auto_eval_relevance.csv 相关性打分 0.7768969422423556\n",
      "手机APP_泛化集_人工_2024-07-30.csv.moe_dpo_0802_auto_eval_relevance.csv 相关性打分 0.8067885117493473\n"
     ]
    }
   ],
   "source": [
    "folder = '/mnt/pfs-guan-ssai/nlu/renhuimin/rag_tool/rag2.0/data/test_data/scb_0804_selected/相关性打分_gpt4_0804_dpo/'\n",
    "eval_col = 'gpt4o_eval_response'\n",
    "eval_metric = '相关性'\n",
    "main(folder, eval_col, eval_metric)"
   ]
  },
  {
   "cell_type": "code",
   "execution_count": null,
   "id": "086104b0-f5a9-4565-a8cf-ab613d6ac538",
   "metadata": {},
   "outputs": [],
   "source": []
  },
  {
   "cell_type": "code",
   "execution_count": null,
   "id": "2b2909b2-8daf-41b4-8fce-96c51c712bf0",
   "metadata": {},
   "outputs": [],
   "source": []
  },
  {
   "cell_type": "code",
   "execution_count": null,
   "id": "3ae6de31-a2c7-4799-9c50-f850ce8a081a",
   "metadata": {},
   "outputs": [],
   "source": []
  },
  {
   "cell_type": "code",
   "execution_count": null,
   "id": "99a14653-4029-49cf-965d-77ca7147fa46",
   "metadata": {},
   "outputs": [],
   "source": []
  },
  {
   "cell_type": "code",
   "execution_count": null,
   "id": "2331af0b-2437-4289-85cc-2ca1c5fbc278",
   "metadata": {},
   "outputs": [],
   "source": []
  },
  {
   "cell_type": "code",
   "execution_count": null,
   "id": "1846f2e4-371f-4777-bfa8-4faf64e85ea6",
   "metadata": {},
   "outputs": [],
   "source": []
  },
  {
   "cell_type": "code",
   "execution_count": null,
   "id": "c30ae40e-70d2-475b-8bce-9cbffec41abd",
   "metadata": {},
   "outputs": [],
   "source": []
  }
 ],
 "metadata": {
  "kernelspec": {
   "display_name": "rhm_env",
   "language": "python",
   "name": "rhm_env"
  },
  "language_info": {
   "codemirror_mode": {
    "name": "ipython",
    "version": 3
   },
   "file_extension": ".py",
   "mimetype": "text/x-python",
   "name": "python",
   "nbconvert_exporter": "python",
   "pygments_lexer": "ipython3",
   "version": "3.11.4"
  }
 },
 "nbformat": 4,
 "nbformat_minor": 5
}
