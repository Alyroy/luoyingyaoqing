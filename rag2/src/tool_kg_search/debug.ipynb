{
 "cells": [
  {
   "cell_type": "code",
   "execution_count": 1,
   "id": "d33a0e8a-f9b4-4bb5-a87d-aa37f7873d84",
   "metadata": {},
   "outputs": [],
   "source": [
    "from search_http_tool2 import SearchByHttpTool\n",
    "from kgsearch_llm_obs2 import *\n",
    "from get_1b_output import ApiResult\n",
    "import utils\n"
   ]
  },
  {
   "cell_type": "code",
   "execution_count": null,
   "id": "9302f54a-8271-43d3-878b-72f6076885fa",
   "metadata": {},
   "outputs": [],
   "source": [
    " # 单结果\n",
    "def search_results(search_http_tool:SearchByHttpTool, api_record : ApiRecord):\n",
    "    http_tool = search_http_tool \n",
    "    retry_num = 5   # 重试次数\n",
    "\n",
    "    multi_llm_obs = []   #返回结果\n",
    "\n",
    "    query = api_record.user_query\n",
    "    if api_record.is_valid == 0:   # 不请求搜索\n",
    "        print('query=%s, api is invalid' % (query) )\n",
    "        return multi_llm_obs\n",
    "\n",
    "    for api_res in api_record.api_res_list: #多api \n",
    "        for i in range(retry_num):\n",
    "            try:\n",
    "                if api_record.api_name.lower() in ['qasearch', 'autosearch']:\n",
    "                    tags = api_res.tag.split('&')\n",
    "                    category = str(api_res.category).replace('&',',').split(',',-1)[0] #可能有多个值,取第一个值\n",
    "                    _, origin_docs = http_tool.qa_search(origin_query=query, norm_query=api_res.normal_query, \n",
    "                                                        tags=tags, slots=api_res.slots, category=category,\n",
    "                                                         time_slots=api_res.time_slots)\n",
    "                elif api_record.api_name.lower() in ['mediasearch']:\n",
    "                    _, origin_docs = http_tool.media_search(query, api_res.normal_query, api_res.slots,\n",
    "                                                            time_slots=api_res.time_slots)\n",
    "                multi_llm_obs.append(origin_docs)\n",
    "            except Exception as e:\n",
    "                print(f\"Error in search: {e}\")\n",
    "                multi_llm_obs.append('')  # 如果出错，添加空字符串\n",
    "                break\n",
    "    return multi_llm_obs\n",
    "\n",
    "\n",
    "def get_obs(search_http_tool, query, input_api):\n",
    "    api_record = get_api_4query(query, input_api)\n",
    "    multi_llm_obs = search_results(search_http_tool, api_record)\n",
    "    return multi_llm_obs"
   ]
  },
  {
   "cell_type": "code",
   "execution_count": 4,
   "id": "40034aa0-f996-473d-8213-2139dafe608b",
   "metadata": {},
   "outputs": [
    {
     "data": {
      "text/plain": [
       "<kgsearch_llm_obs2.ApiRecord at 0x7f33576bc050>"
      ]
     },
     "execution_count": 4,
     "metadata": {},
     "output_type": "execute_result"
    }
   ],
   "source": [
    "api_record = get_api_4query(query, input_api)\n",
    "api_record"
   ]
  },
  {
   "cell_type": "code",
   "execution_count": 12,
   "id": "4e2b8eea-2a03-430f-9567-4660dd032c39",
   "metadata": {},
   "outputs": [],
   "source": [
    "http_tool = search_http_tool \n",
    "retry_num = 5   # 重试次数\n",
    "\n",
    "multi_llm_obs = []   #返回结果\n",
    "\n",
    "query = api_record.user_query\n",
    "if api_record.is_valid == 0:   # 不请求搜索\n",
    "    print('query=%s, api is invalid' % (query) )\n",
    "\n",
    "for api_res in api_record.api_res_list: #多api \n",
    "    for i in range(retry_num):\n",
    "        try:\n",
    "            if api_record.api_name.lower() in ['qasearch', 'autosearch']:\n",
    "                tags = api_res.tag.split('&')\n",
    "                category = str(api_res.category).replace('&',',').split(',',-1)[0] #可能有多个值,取第一个值\n",
    "                _, origin_docs = http_tool.qa_search(origin_query=query, norm_query=api_res.normal_query, \n",
    "                                                    tags=tags, slots=api_res.slots, category=category,\n",
    "                                                     time_slots=api_res.time_slots)\n",
    "            elif api_record.api_name.lower() in ['mediasearch']:\n",
    "                _, origin_docs = http_tool.media_search(query, api_res.normal_query, api_res.slots,\n",
    "                                                        time_slots=api_res.time_slots)\n",
    "            multi_llm_obs.append(origin_docs)\n",
    "        except Exception as e:\n",
    "            print(f\"Error in search: {e}\")\n",
    "            multi_llm_obs.append('')  # 如果出错，添加空字符串\n",
    "            break"
   ]
  },
  {
   "cell_type": "code",
   "execution_count": 2,
   "id": "108f944e-c7d6-4669-ae92-f11bdfb8ab8a",
   "metadata": {},
   "outputs": [],
   "source": [
    "input_api = [{\"STARTTIME\":\"{\\\"norm\\\":{\\\"now\\\":\\\"true\\\"},\\\"raw\\\":\\\"目前\\\"}\",\"APINAME\":\"QASearch\",\"QUERY\":\"目前最先进的AI芯片是哪家公司的\",\"CATEGORY\":\"公司\",\"TAG\":\"目前&最先进&AI芯片&公司&时效性\",\"timeslots\":\"{\\\"type\\\":\\\"ABSOLUTE_TIME\\\",\\\"range\\\":\\\"POINT\\\",\\\"format\\\":\\\"yyyy-MM-dd HH:mm:ss\\\",\\\"start\\\":{\\\"raw\\\":\\\"目前\\\",\\\"time\\\":\\\"2024-05-24 21:01:56\\\",\\\"norm\\\":{\\\"now\\\":\\\"true\\\"}},\\\"end\\\":null,\\\"duration\\\":null,\\\"supplemental\\\":{\\\"raw\\\":\\\"\\\",\\\"time\\\":\\\"2024-05-24 21:01:56\\\",\\\"norm\\\":null},\\\"interval\\\":\\\"\\\"}\"}]"
   ]
  },
  {
   "cell_type": "code",
   "execution_count": 3,
   "id": "4afe13fa-57b4-4490-b22d-564abced0eee",
   "metadata": {},
   "outputs": [
    {
     "data": {
      "text/plain": [
       "[{'STARTTIME': '{\"norm\":{\"now\":\"true\"},\"raw\":\"目前\"}',\n",
       "  'APINAME': 'QASearch',\n",
       "  'QUERY': '目前最先进的AI芯片是哪家公司的',\n",
       "  'CATEGORY': '公司',\n",
       "  'TAG': '目前&最先进&AI芯片&公司&时效性',\n",
       "  'timeslots': '{\"type\":\"ABSOLUTE_TIME\",\"range\":\"POINT\",\"format\":\"yyyy-MM-dd HH:mm:ss\",\"start\":{\"raw\":\"目前\",\"time\":\"2024-05-24 21:01:56\",\"norm\":{\"now\":\"true\"}},\"end\":null,\"duration\":null,\"supplemental\":{\"raw\":\"\",\"time\":\"2024-05-24 21:01:56\",\"norm\":null},\"interval\":\"\"}'}]"
      ]
     },
     "execution_count": 3,
     "metadata": {},
     "output_type": "execute_result"
    }
   ],
   "source": [
    "input_api"
   ]
  },
  {
   "cell_type": "code",
   "execution_count": null,
   "id": "75484a4e-5a00-448d-ab43-a41f67609d91",
   "metadata": {},
   "outputs": [],
   "source": []
  }
 ],
 "metadata": {
  "kernelspec": {
   "display_name": "rhm_env",
   "language": "python",
   "name": "rhm_env"
  },
  "language_info": {
   "codemirror_mode": {
    "name": "ipython",
    "version": 3
   },
   "file_extension": ".py",
   "mimetype": "text/x-python",
   "name": "python",
   "nbconvert_exporter": "python",
   "pygments_lexer": "ipython3",
   "version": "3.11.4"
  }
 },
 "nbformat": 4,
 "nbformat_minor": 5
}
