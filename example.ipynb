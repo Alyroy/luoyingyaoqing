{
 "cells": [
  {
   "cell_type": "code",
   "execution_count": 1,
   "id": "250e5ddb-5381-4f59-8904-ad3a79dd5100",
   "metadata": {
    "tags": []
   },
   "outputs": [],
   "source": [
    "import pandas as pd\n",
    "import os\n",
    "import re\n",
    "from utils_kg_search import get_all_observation,get_api_df,get_media_observation,get_media_obs_df\n",
    "from call_chatgpt_with_zny_asyncio import get_gpt4api_df\n",
    "from utils_data_format_conversion import *\n",
    "from utils import preprocess_df\n",
    "import requests"
   ]
  },
  {
   "cell_type": "markdown",
   "id": "d0aabbd2-91a9-454f-a23c-aaff894f59c5",
   "metadata": {},
   "source": [
    "### 生成system prompt"
   ]
  },
  {
   "cell_type": "code",
   "execution_count": null,
   "id": "6f0210dd-99ab-424a-8422-618d94d44d32",
   "metadata": {},
   "outputs": [],
   "source": [
    "data = {\n",
    "'id':['test-1'],\n",
    "'turn_id':[1],\n",
    "'source':['测试'],\n",
    "'user-query':['世界的第三高峰是哪个'],\n",
    "'Thought':['涉及事实问答，查询世界第三高峰的信息。'],\n",
    "'API':['<|api_start|><|kvs|>APINAME=>QASearch<|kve|><|kvs|>CATEGORY=>地理<|kve|><|kvs|>QUERY=>世界第三高峰<|kve|><|kvs|>TAG=>世界&第三高峰<|kve|><|api_end|>'],\n",
    "'observation':[\"[['一些内容','一些内容','一些内容']]\"],\n",
    "'assistant':['世界的第三高峰是干城章嘉峰，位于喜马拉雅山脉，海拔高达8586米。'],\n",
    "'relevant_label':['相关']\n",
    "}\n",
    "df = pd.DataFrame(data)\n",
    "\n",
    "start_date = '2024-01-01'\n",
    "end_date = '2024-03-31'\n",
    "# 根据obs发布时间的max-date，生成用户提问时间user_prompt，用户提问时间比max-date随机大1-30\n",
    "df = df.apply(lambda row: process_row_and_generate_prompt(row, start_date, end_date), axis=1)\n",
    "# 拼接生成system prompt，地点、时间随机，用户日期根据process_row_and_generate_prompt，如果没有上面一行，自动随机生成一个时间，start_date = \"2020-01-01\" end_date = \"2026-12-31\"\n",
    "df = df.apply(generate_sys_prompt,axis=1)"
   ]
  },
  {
   "cell_type": "markdown",
   "id": "e305b6f2-d5e5-4906-8845-8d50526e8b0c",
   "metadata": {},
   "source": [
    "### csv格式转为jsonl格式"
   ]
  },
  {
   "cell_type": "code",
   "execution_count": 2,
   "id": "b0695039-ca16-42be-82fd-2d6bd85e1fcc",
   "metadata": {
    "tags": []
   },
   "outputs": [
    {
     "data": {
      "text/html": [
       "<div>\n",
       "<style scoped>\n",
       "    .dataframe tbody tr th:only-of-type {\n",
       "        vertical-align: middle;\n",
       "    }\n",
       "\n",
       "    .dataframe tbody tr th {\n",
       "        vertical-align: top;\n",
       "    }\n",
       "\n",
       "    .dataframe thead th {\n",
       "        text-align: right;\n",
       "    }\n",
       "</style>\n",
       "<table border=\"1\" class=\"dataframe\">\n",
       "  <thead>\n",
       "    <tr style=\"text-align: right;\">\n",
       "      <th></th>\n",
       "      <th>id</th>\n",
       "      <th>source</th>\n",
       "      <th>messages</th>\n",
       "    </tr>\n",
       "  </thead>\n",
       "  <tbody>\n",
       "    <tr>\n",
       "      <th>0</th>\n",
       "      <td>test-1</td>\n",
       "      <td>测试</td>\n",
       "      <td>[{'role': 'user', 'content': ['世界的第三高峰是哪个']}, ...</td>\n",
       "    </tr>\n",
       "  </tbody>\n",
       "</table>\n",
       "</div>"
      ],
      "text/plain": [
       "       id source                                           messages\n",
       "0  test-1     测试  [{'role': 'user', 'content': ['世界的第三高峰是哪个']}, ..."
      ]
     },
     "execution_count": 2,
     "metadata": {},
     "output_type": "execute_result"
    }
   ],
   "source": [
    "data = {\n",
    "'id':['test-1'],\n",
    "'turn_id':[1],\n",
    "'source':['测试'],\n",
    "'user-query':['世界的第三高峰是哪个'],\n",
    "'Thought':['涉及事实问答，查询世界第三高峰的信息。'],\n",
    "'API':['<|api_start|><|kvs|>APINAME=>QASearch<|kve|><|kvs|>CATEGORY=>地理<|kve|><|kvs|>QUERY=>世界第三高峰<|kve|><|kvs|>TAG=>世界&第三高峰<|kve|><|api_end|>'],\n",
    "'observation':[\"[['一些内容','一些内容','一些内容']]\"],\n",
    "'assistant':['世界的第三高峰是干城章嘉峰，位于喜马拉雅山脉，海拔高达8586米。'],\n",
    "'relevant_label':['相关']\n",
    "}\n",
    "df = pd.DataFrame(data)\n",
    "sft_df = convert_csv_to_sft(df.copy(),api_flag=True)\n",
    "sft_df"
   ]
  },
  {
   "cell_type": "markdown",
   "id": "9f3ad8cf-5a0a-4424-8f1d-92aa1fbc27f8",
   "metadata": {},
   "source": [
    "### QAsearch"
   ]
  },
  {
   "cell_type": "code",
   "execution_count": 2,
   "id": "c1f471b7-39ba-4e25-8f1d-ed65c259f79f",
   "metadata": {
    "collapsed": true,
    "jupyter": {
     "outputs_hidden": true
    },
    "tags": []
   },
   "outputs": [
    {
     "name": "stderr",
     "output_type": "stream",
     "text": [
      "100%|██████████| 3/3 [00:07<00:00,  2.58s/it]\n"
     ]
    },
    {
     "name": "stdout",
     "output_type": "stream",
     "text": [
      "env dev\n"
     ]
    },
    {
     "name": "stderr",
     "output_type": "stream",
     "text": [
      "100%|██████████| 3/3 [00:02<00:00,  1.09it/s]"
     ]
    },
    {
     "name": "stdout",
     "output_type": "stream",
     "text": [
      "search_single_api error: \n",
      "世界最高的山峰 list index out of range\n"
     ]
    },
    {
     "name": "stderr",
     "output_type": "stream",
     "text": [
      "\n"
     ]
    },
    {
     "data": {
      "text/html": [
       "<div>\n",
       "<style scoped>\n",
       "    .dataframe tbody tr th:only-of-type {\n",
       "        vertical-align: middle;\n",
       "    }\n",
       "\n",
       "    .dataframe tbody tr th {\n",
       "        vertical-align: top;\n",
       "    }\n",
       "\n",
       "    .dataframe thead th {\n",
       "        text-align: right;\n",
       "    }\n",
       "</style>\n",
       "<table border=\"1\" class=\"dataframe\">\n",
       "  <thead>\n",
       "    <tr style=\"text-align: right;\">\n",
       "      <th></th>\n",
       "      <th>user-query</th>\n",
       "      <th>Thought</th>\n",
       "      <th>API</th>\n",
       "      <th>API-NAME</th>\n",
       "      <th>API-CATEGORY</th>\n",
       "      <th>API-QUERY</th>\n",
       "      <th>API-TAG</th>\n",
       "      <th>observation</th>\n",
       "    </tr>\n",
       "  </thead>\n",
       "  <tbody>\n",
       "    <tr>\n",
       "      <th>0</th>\n",
       "      <td>介绍下刘翔</td>\n",
       "      <td>涉及人物知识, 查询“刘翔的简介”信息作为参考</td>\n",
       "      <td>&lt;|api_start|&gt;&lt;|kvs|&gt;APINAME=&gt;QASearch&lt;|kve|&gt;&lt;|...</td>\n",
       "      <td>['QASearch']</td>\n",
       "      <td>['人物']</td>\n",
       "      <td>['刘翔的简介']</td>\n",
       "      <td>['刘翔&amp;简介']</td>\n",
       "      <td>[[刘翔 - 知乎 刘翔，1983年7月13日出生于上海市普陀区，中国男子田径队110米栏运...</td>\n",
       "    </tr>\n",
       "    <tr>\n",
       "      <th>1</th>\n",
       "      <td>姚明有多高</td>\n",
       "      <td>涉及人物的身高信息，查询“姚明的身高”信息</td>\n",
       "      <td>&lt;|api_start|&gt;&lt;|kvs|&gt;APINAME=&gt;QASearch&lt;|kve|&gt;&lt;|...</td>\n",
       "      <td>['QASearch']</td>\n",
       "      <td>['人物']</td>\n",
       "      <td>['姚明的身高是多少']</td>\n",
       "      <td>['姚明&amp;身高']</td>\n",
       "      <td>[[姚明身高是多少? - 百度知道 发布时间：2017-06-08 姚明的NBA官方身高是7...</td>\n",
       "    </tr>\n",
       "    <tr>\n",
       "      <th>2</th>\n",
       "      <td>世界上最高的山峰是什么？</td>\n",
       "      <td>涉及世界之最知识, 查询“世界最高的山峰”信息作为参考</td>\n",
       "      <td>&lt;|api_start|&gt;&lt;|kvs|&gt;APINAME=&gt;QASearch&lt;|kve|&gt;&lt;|...</td>\n",
       "      <td>['QASearch']</td>\n",
       "      <td>['世界之最']</td>\n",
       "      <td>['世界最高的山峰']</td>\n",
       "      <td>['世界&amp;最高&amp;山峰']</td>\n",
       "      <td>[[世界十大山峰_百度百科 世界十大山峰分别为珠穆朗玛峰、乔戈里峰、干城章嘉峰、洛子峰、马卡...</td>\n",
       "    </tr>\n",
       "  </tbody>\n",
       "</table>\n",
       "</div>"
      ],
      "text/plain": [
       "     user-query                      Thought  \\\n",
       "0         介绍下刘翔      涉及人物知识, 查询“刘翔的简介”信息作为参考   \n",
       "1         姚明有多高        涉及人物的身高信息，查询“姚明的身高”信息   \n",
       "2  世界上最高的山峰是什么？  涉及世界之最知识, 查询“世界最高的山峰”信息作为参考   \n",
       "\n",
       "                                                 API      API-NAME  \\\n",
       "0  <|api_start|><|kvs|>APINAME=>QASearch<|kve|><|...  ['QASearch']   \n",
       "1  <|api_start|><|kvs|>APINAME=>QASearch<|kve|><|...  ['QASearch']   \n",
       "2  <|api_start|><|kvs|>APINAME=>QASearch<|kve|><|...  ['QASearch']   \n",
       "\n",
       "  API-CATEGORY     API-QUERY       API-TAG  \\\n",
       "0       ['人物']     ['刘翔的简介']     ['刘翔&简介']   \n",
       "1       ['人物']  ['姚明的身高是多少']     ['姚明&身高']   \n",
       "2     ['世界之最']   ['世界最高的山峰']  ['世界&最高&山峰']   \n",
       "\n",
       "                                         observation  \n",
       "0  [[刘翔 - 知乎 刘翔，1983年7月13日出生于上海市普陀区，中国男子田径队110米栏运...  \n",
       "1  [[姚明身高是多少? - 百度知道 发布时间：2017-06-08 姚明的NBA官方身高是7...  \n",
       "2  [[世界十大山峰_百度百科 世界十大山峰分别为珠穆朗玛峰、乔戈里峰、干城章嘉峰、洛子峰、马卡...  "
      ]
     },
     "execution_count": 2,
     "metadata": {},
     "output_type": "execute_result"
    }
   ],
   "source": [
    "querys = {'user-query':['介绍下刘翔','姚明有多高','世界上最高的山峰是什么？']}\n",
    "df = pd.DataFrame(querys)\n",
    "\n",
    "# step 1. 生成API\n",
    "api_df = get_api_df(df,category='QASearch') # category 具体设置 见函数说明\n",
    "api_df = api_df.astype(str)\n",
    "\n",
    "# step 2. 获取observation \n",
    "obs_df = get_all_observation(api_df,top_k=5,env='dev') # topk返回obs数量，env环境 dev 或 arch\n",
    "obs_df"
   ]
  },
  {
   "cell_type": "markdown",
   "id": "62cd5d63-497e-4223-8a06-b96a8c686390",
   "metadata": {},
   "source": [
    "### AUTOSearch"
   ]
  },
  {
   "cell_type": "code",
   "execution_count": 4,
   "id": "d4a7c3dc-cc95-4b0c-b2d5-40b7c7ae22b3",
   "metadata": {
    "tags": []
   },
   "outputs": [
    {
     "name": "stderr",
     "output_type": "stream",
     "text": [
      "100%|██████████| 2/2 [00:04<00:00,  2.30s/it]\n"
     ]
    },
    {
     "name": "stdout",
     "output_type": "stream",
     "text": [
      "env dev\n"
     ]
    },
    {
     "name": "stderr",
     "output_type": "stream",
     "text": [
      "100%|██████████| 2/2 [00:00<00:00,  3.47it/s]"
     ]
    },
    {
     "name": "stdout",
     "output_type": "stream",
     "text": [
      "search_single_api error: \n",
      "理想L9多少钱？ list index out of range\n",
      "search_single_api error: \n",
      "介绍下L8 list index out of range\n"
     ]
    },
    {
     "name": "stderr",
     "output_type": "stream",
     "text": [
      "\n"
     ]
    },
    {
     "data": {
      "text/html": [
       "<div>\n",
       "<style scoped>\n",
       "    .dataframe tbody tr th:only-of-type {\n",
       "        vertical-align: middle;\n",
       "    }\n",
       "\n",
       "    .dataframe tbody tr th {\n",
       "        vertical-align: top;\n",
       "    }\n",
       "\n",
       "    .dataframe thead th {\n",
       "        text-align: right;\n",
       "    }\n",
       "</style>\n",
       "<table border=\"1\" class=\"dataframe\">\n",
       "  <thead>\n",
       "    <tr style=\"text-align: right;\">\n",
       "      <th></th>\n",
       "      <th>user-query</th>\n",
       "      <th>Thought</th>\n",
       "      <th>API</th>\n",
       "      <th>API-NAME</th>\n",
       "      <th>API-CATEGORY</th>\n",
       "      <th>API-QUERY</th>\n",
       "      <th>API-TAG</th>\n",
       "      <th>observation</th>\n",
       "    </tr>\n",
       "  </thead>\n",
       "  <tbody>\n",
       "    <tr>\n",
       "      <th>0</th>\n",
       "      <td>理想L9多少钱？</td>\n",
       "      <td>涉及汽车问答，需要查询理想L9售价的信息。</td>\n",
       "      <td>&lt;|api_start|&gt;&lt;|kvs|&gt;APINAME=&gt;AUTOSearch&lt;|kve|&gt;...</td>\n",
       "      <td>['AUTOSearch']</td>\n",
       "      <td>['汽车']</td>\n",
       "      <td>['理想L9售价']</td>\n",
       "      <td>['理想L9&amp;售价']</td>\n",
       "      <td>[[ 我目前无法提供准确的答案。]]</td>\n",
       "    </tr>\n",
       "    <tr>\n",
       "      <th>1</th>\n",
       "      <td>介绍下L8</td>\n",
       "      <td>涉及汽车问答，查询L8的简介信息做参考</td>\n",
       "      <td>&lt;|api_start|&gt;&lt;|kvs|&gt;APINAME=&gt;AUTOSearch&lt;|kve|&gt;...</td>\n",
       "      <td>['AUTOSearch']</td>\n",
       "      <td>['汽车']</td>\n",
       "      <td>['L8的简介']</td>\n",
       "      <td>['L8&amp;简介']</td>\n",
       "      <td>[[理想L8简介 尺寸：理想L8传承理想ONE的经典中大型六座SUV的空间布局，车身尺寸为：...</td>\n",
       "    </tr>\n",
       "  </tbody>\n",
       "</table>\n",
       "</div>"
      ],
      "text/plain": [
       "  user-query                Thought  \\\n",
       "0   理想L9多少钱？  涉及汽车问答，需要查询理想L9售价的信息。   \n",
       "1      介绍下L8    涉及汽车问答，查询L8的简介信息做参考   \n",
       "\n",
       "                                                 API        API-NAME  \\\n",
       "0  <|api_start|><|kvs|>APINAME=>AUTOSearch<|kve|>...  ['AUTOSearch']   \n",
       "1  <|api_start|><|kvs|>APINAME=>AUTOSearch<|kve|>...  ['AUTOSearch']   \n",
       "\n",
       "  API-CATEGORY   API-QUERY      API-TAG  \\\n",
       "0       ['汽车']  ['理想L9售价']  ['理想L9&售价']   \n",
       "1       ['汽车']   ['L8的简介']    ['L8&简介']   \n",
       "\n",
       "                                         observation  \n",
       "0                                 [[ 我目前无法提供准确的答案。]]  \n",
       "1  [[理想L8简介 尺寸：理想L8传承理想ONE的经典中大型六座SUV的空间布局，车身尺寸为：...  "
      ]
     },
     "execution_count": 4,
     "metadata": {},
     "output_type": "execute_result"
    }
   ],
   "source": [
    "querys = {'user-query':['理想L9多少钱？','介绍下L8']}\n",
    "df = pd.DataFrame(querys)\n",
    "\n",
    "# step 1. 生成API\n",
    "api_df = get_api_df(df,category='AUTOSearch') # category 具体设置 见函数说明\n",
    "api_df = api_df.astype(str)\n",
    "\n",
    "# step 2. 获取observation \n",
    "obs_df = get_all_observation(api_df,top_k=3,env='dev') # topk返回obs数量，env环境 dev 或 arch\n",
    "obs_df"
   ]
  },
  {
   "cell_type": "markdown",
   "id": "9f9247af-a417-4115-b3f8-8f1344f92016",
   "metadata": {},
   "source": [
    "### MEDIASearch"
   ]
  },
  {
   "cell_type": "code",
   "execution_count": 3,
   "id": "8dfbd3d1-752b-4579-a231-cb86dda74688",
   "metadata": {
    "tags": []
   },
   "outputs": [
    {
     "name": "stderr",
     "output_type": "stream",
     "text": [
      "100%|██████████| 3/3 [00:07<00:00,  2.54s/it]\n"
     ]
    },
    {
     "data": {
      "text/html": [
       "<div>\n",
       "<style scoped>\n",
       "    .dataframe tbody tr th:only-of-type {\n",
       "        vertical-align: middle;\n",
       "    }\n",
       "\n",
       "    .dataframe tbody tr th {\n",
       "        vertical-align: top;\n",
       "    }\n",
       "\n",
       "    .dataframe thead th {\n",
       "        text-align: right;\n",
       "    }\n",
       "</style>\n",
       "<table border=\"1\" class=\"dataframe\">\n",
       "  <thead>\n",
       "    <tr style=\"text-align: right;\">\n",
       "      <th></th>\n",
       "      <th>user-query</th>\n",
       "      <th>Thought</th>\n",
       "      <th>API</th>\n",
       "      <th>API-NAME</th>\n",
       "      <th>API-CATEGORY</th>\n",
       "      <th>API-QUERY</th>\n",
       "      <th>API-TAG</th>\n",
       "      <th>slots</th>\n",
       "      <th>observation</th>\n",
       "    </tr>\n",
       "  </thead>\n",
       "  <tbody>\n",
       "    <tr>\n",
       "      <th>0</th>\n",
       "      <td>推荐最近的电影</td>\n",
       "      <td>涉及影视推荐，需要生成影视推荐API完成内容推荐。</td>\n",
       "      <td>&lt;|api_start|&gt;&lt;|kvs|&gt;APINAME=&gt;MEDIASearch&lt;|kve|...</td>\n",
       "      <td>['MEDIASearch']</td>\n",
       "      <td>[]</td>\n",
       "      <td>['最近的电影']</td>\n",
       "      <td>[]</td>\n",
       "      <td>[{'APINAME': 'MEDIASearch', 'QUERY': '最近的电影', ...</td>\n",
       "      <td>[[《除暴安良》：刑警队长常勇在维护社会治安行动的过程中，发现一伙匪徒抢劫了大量现金并藏在了...</td>\n",
       "    </tr>\n",
       "    <tr>\n",
       "      <th>1</th>\n",
       "      <td>推荐最新的歌</td>\n",
       "      <td>涉及音乐相关问答，需要生成音乐推荐API完成内容推荐。</td>\n",
       "      <td>&lt;|api_start|&gt;&lt;|kvs|&gt;APINAME=&gt;MEDIASearch&lt;|kve|...</td>\n",
       "      <td>['MEDIASearch']</td>\n",
       "      <td>[]</td>\n",
       "      <td>['推荐最新的歌']</td>\n",
       "      <td>[]</td>\n",
       "      <td>[{'APINAME': 'MEDIASearch', 'QUERY': '推荐最新的歌',...</td>\n",
       "      <td>[[《做自己的太阳》：由张艺兴演唱，由Jang Woo Hyuk、Park Su Jong、...</td>\n",
       "    </tr>\n",
       "    <tr>\n",
       "      <th>2</th>\n",
       "      <td>最近有什么好的电影么？</td>\n",
       "      <td>涉及影视推荐，需要生成影视推荐API完成内容推荐。</td>\n",
       "      <td>&lt;|api_start|&gt;&lt;|kvs|&gt;APINAME=&gt;MEDIASearch&lt;|kve|...</td>\n",
       "      <td>['MEDIASearch']</td>\n",
       "      <td>[]</td>\n",
       "      <td>['最近有什么好的电影么？']</td>\n",
       "      <td>[]</td>\n",
       "      <td>[{'APINAME': 'MEDIASearch', 'QUERY': '最近有什么好的电...</td>\n",
       "      <td>[[《狂蟒之灾》：连年亏损的民间马戏团被团长连人带物贱卖给奸商，其中宫兰兰和阿丽以及其他团员...</td>\n",
       "    </tr>\n",
       "  </tbody>\n",
       "</table>\n",
       "</div>"
      ],
      "text/plain": [
       "    user-query                      Thought  \\\n",
       "0      推荐最近的电影    涉及影视推荐，需要生成影视推荐API完成内容推荐。   \n",
       "1       推荐最新的歌  涉及音乐相关问答，需要生成音乐推荐API完成内容推荐。   \n",
       "2  最近有什么好的电影么？    涉及影视推荐，需要生成影视推荐API完成内容推荐。   \n",
       "\n",
       "                                                 API         API-NAME  \\\n",
       "0  <|api_start|><|kvs|>APINAME=>MEDIASearch<|kve|...  ['MEDIASearch']   \n",
       "1  <|api_start|><|kvs|>APINAME=>MEDIASearch<|kve|...  ['MEDIASearch']   \n",
       "2  <|api_start|><|kvs|>APINAME=>MEDIASearch<|kve|...  ['MEDIASearch']   \n",
       "\n",
       "  API-CATEGORY        API-QUERY API-TAG  \\\n",
       "0           []        ['最近的电影']      []   \n",
       "1           []       ['推荐最新的歌']      []   \n",
       "2           []  ['最近有什么好的电影么？']      []   \n",
       "\n",
       "                                               slots  \\\n",
       "0  [{'APINAME': 'MEDIASearch', 'QUERY': '最近的电影', ...   \n",
       "1  [{'APINAME': 'MEDIASearch', 'QUERY': '推荐最新的歌',...   \n",
       "2  [{'APINAME': 'MEDIASearch', 'QUERY': '最近有什么好的电...   \n",
       "\n",
       "                                         observation  \n",
       "0  [[《除暴安良》：刑警队长常勇在维护社会治安行动的过程中，发现一伙匪徒抢劫了大量现金并藏在了...  \n",
       "1  [[《做自己的太阳》：由张艺兴演唱，由Jang Woo Hyuk、Park Su Jong、...  \n",
       "2  [[《狂蟒之灾》：连年亏损的民间马戏团被团长连人带物贱卖给奸商，其中宫兰兰和阿丽以及其他团员...  "
      ]
     },
     "execution_count": 3,
     "metadata": {},
     "output_type": "execute_result"
    }
   ],
   "source": [
    "querys = {'user-query':['推荐最近的电影','推荐最新的歌','最近有什么好的电影么？']}\n",
    "df = pd.DataFrame(querys)\n",
    "\n",
    "# step 1. 生成API\n",
    "api_df = get_api_df(df,category='MEDIASearch') # category 具体设置 见函数说明\n",
    "api_df = api_df.astype(str)\n",
    "\n",
    "# step 2. 获取observation\n",
    "obs_df = get_media_obs_df(api_df, top_k=10, env='testtwo') # topk返回obs数量，env环境 testtwo 或 faq\n",
    "obs_df"
   ]
  },
  {
   "cell_type": "code",
   "execution_count": null,
   "id": "6dffc252-3ee4-4d5d-a34a-bd72522b7faa",
   "metadata": {},
   "outputs": [],
   "source": [
    "def get_prompts_df(df: pd.DataFrame, oneshot_prompt: str) -> pd.DataFrame:\n",
    "    df['prompts'] = df.apply(lambda row: oneshot_prompt + f\"\"\"\n",
    "    ---\n",
    "    Background:\n",
    "    ```{row['observation']}```\n",
    "    Answer：\n",
    "    \"\"\", axis=1)\n",
    "    \n",
    "    return df"
   ]
  },
  {
   "cell_type": "code",
   "execution_count": null,
   "id": "3225a983-d148-4f8a-8109-b0c6bec815c9",
   "metadata": {},
   "outputs": [],
   "source": [
    "# step 3. 调用gpt\n",
    "oneshot_prompt = '根据参考资料回答问题' # 这部分prompt可以根据自己的需求自定义\n",
    "prompt_df = get_prompts_df(obs_df,oneshot_prompt)\n",
    "gpt4_df = get_gpt4api_df(prompt_df, message_type='', max_request_times=1, \n",
    "                         qps=2, max_concurrent=5, asyncio_flag=False) # 各参数见函数说明\n",
    "\n",
    "# step 4. 转成jsonl文件\n",
    "gpt4_df = gpt4_df.astype(str)\n",
    "gpt4_df['id'] = gpt4_df.index.astype(str)\n",
    "gpt4_df['source'] = '测试'\n",
    "sft_df = convert_csv_to_sft(gpt4_df,api_flag=True)\n",
    "sft_df.to_json('out.jsonl', orient='records', lines=True, force_ascii=False)"
   ]
  }
 ],
 "metadata": {
  "kernelspec": {
   "display_name": "Python 3 (ipykernel)",
   "language": "python",
   "name": "python3"
  },
  "language_info": {
   "codemirror_mode": {
    "name": "ipython",
    "version": 3
   },
   "file_extension": ".py",
   "mimetype": "text/x-python",
   "name": "python",
   "nbconvert_exporter": "python",
   "pygments_lexer": "ipython3",
   "version": "3.9.16"
  }
 },
 "nbformat": 4,
 "nbformat_minor": 5
}
