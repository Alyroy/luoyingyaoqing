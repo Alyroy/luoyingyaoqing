{
 "cells": [
  {
   "cell_type": "code",
   "execution_count": 1,
   "id": "250e5ddb-5381-4f59-8904-ad3a79dd5100",
   "metadata": {
    "tags": []
   },
   "outputs": [],
   "source": [
    "import pandas as pd\n",
    "import os\n",
    "import re\n",
    "from utils_kg_search import get_all_observation,get_api_df,get_media_observation,get_media_obs_df\n",
    "from call_chatgpt_with_zny_asyncio import get_gpt4api_df\n",
    "from utils_data_format_conversion import *\n",
    "from utils import preprocess_df\n",
    "import requests"
   ]
  },
  {
   "cell_type": "code",
   "execution_count": 6,
   "id": "f3b8af6e-3381-4b46-b5e0-e871cdad9648",
   "metadata": {
    "collapsed": true,
    "jupyter": {
     "outputs_hidden": true
    },
    "tags": []
   },
   "outputs": [
    {
     "data": {
      "text/html": [
       "<div>\n",
       "<style scoped>\n",
       "    .dataframe tbody tr th:only-of-type {\n",
       "        vertical-align: middle;\n",
       "    }\n",
       "\n",
       "    .dataframe tbody tr th {\n",
       "        vertical-align: top;\n",
       "    }\n",
       "\n",
       "    .dataframe thead th {\n",
       "        text-align: right;\n",
       "    }\n",
       "</style>\n",
       "<table border=\"1\" class=\"dataframe\">\n",
       "  <thead>\n",
       "    <tr style=\"text-align: right;\">\n",
       "      <th></th>\n",
       "      <th>user-query</th>\n",
       "      <th>domain</th>\n",
       "      <th>intent</th>\n",
       "      <th>skill</th>\n",
       "    </tr>\n",
       "  </thead>\n",
       "  <tbody>\n",
       "    <tr>\n",
       "      <th>0</th>\n",
       "      <td>北京哪些景点让游客觉得不值得一去</td>\n",
       "      <td>出游灵感</td>\n",
       "      <td>推荐</td>\n",
       "      <td>景点推荐</td>\n",
       "    </tr>\n",
       "    <tr>\n",
       "      <th>1</th>\n",
       "      <td>上海存在哪些让人觉得遗憾的旅游地</td>\n",
       "      <td>出游灵感</td>\n",
       "      <td>推荐</td>\n",
       "      <td>景点推荐</td>\n",
       "    </tr>\n",
       "    <tr>\n",
       "      <th>2</th>\n",
       "      <td>如果财力雄厚，应该考虑购买哪些汽车</td>\n",
       "      <td>汽车问答</td>\n",
       "      <td>推荐</td>\n",
       "      <td>目标用户</td>\n",
       "    </tr>\n",
       "    <tr>\n",
       "      <th>3</th>\n",
       "      <td>市面上有哪些被评价为低效价比的美妆产品</td>\n",
       "      <td>美容</td>\n",
       "      <td>推荐</td>\n",
       "      <td>美容产品推荐</td>\n",
       "    </tr>\n",
       "    <tr>\n",
       "      <th>4</th>\n",
       "      <td>哪些国内旅游景点的环境卫生状况令人堪忧</td>\n",
       "      <td>出游灵感</td>\n",
       "      <td>推荐</td>\n",
       "      <td>景点推荐</td>\n",
       "    </tr>\n",
       "    <tr>\n",
       "      <th>...</th>\n",
       "      <td>...</td>\n",
       "      <td>...</td>\n",
       "      <td>...</td>\n",
       "      <td>...</td>\n",
       "    </tr>\n",
       "    <tr>\n",
       "      <th>812</th>\n",
       "      <td>为什么有观众会反感范冰冰的演技</td>\n",
       "      <td>影视</td>\n",
       "      <td>分析评价</td>\n",
       "      <td>影视问答</td>\n",
       "    </tr>\n",
       "    <tr>\n",
       "      <th>813</th>\n",
       "      <td>大众的某款SUV为什么被车主评价糟糕，具体问题在哪里</td>\n",
       "      <td>舆情</td>\n",
       "      <td>分析评价</td>\n",
       "      <td>NaN</td>\n",
       "    </tr>\n",
       "    <tr>\n",
       "      <th>814</th>\n",
       "      <td>萧敬腾的演唱风格为何会被部分人批评无法接受</td>\n",
       "      <td>人物</td>\n",
       "      <td>分析评价</td>\n",
       "      <td>NaN</td>\n",
       "    </tr>\n",
       "    <tr>\n",
       "      <th>815</th>\n",
       "      <td>那些豪华品牌的车款在安全性能方面接到了哪些批评</td>\n",
       "      <td>汽车问答</td>\n",
       "      <td>分析评价</td>\n",
       "      <td>公司高管信息</td>\n",
       "    </tr>\n",
       "    <tr>\n",
       "      <th>816</th>\n",
       "      <td>杨紫为什么一直火不起来</td>\n",
       "      <td>人物</td>\n",
       "      <td>分析评价</td>\n",
       "      <td>NaN</td>\n",
       "    </tr>\n",
       "  </tbody>\n",
       "</table>\n",
       "<p>817 rows × 4 columns</p>\n",
       "</div>"
      ],
      "text/plain": [
       "                     user-query domain intent   skill\n",
       "0              北京哪些景点让游客觉得不值得一去   出游灵感     推荐    景点推荐\n",
       "1              上海存在哪些让人觉得遗憾的旅游地   出游灵感     推荐    景点推荐\n",
       "2             如果财力雄厚，应该考虑购买哪些汽车   汽车问答     推荐    目标用户\n",
       "3           市面上有哪些被评价为低效价比的美妆产品     美容     推荐  美容产品推荐\n",
       "4           哪些国内旅游景点的环境卫生状况令人堪忧   出游灵感     推荐    景点推荐\n",
       "..                          ...    ...    ...     ...\n",
       "812             为什么有观众会反感范冰冰的演技     影视   分析评价    影视问答\n",
       "813  大众的某款SUV为什么被车主评价糟糕，具体问题在哪里     舆情   分析评价     NaN\n",
       "814       萧敬腾的演唱风格为何会被部分人批评无法接受     人物   分析评价     NaN\n",
       "815     那些豪华品牌的车款在安全性能方面接到了哪些批评   汽车问答   分析评价  公司高管信息\n",
       "816                 杨紫为什么一直火不起来     人物   分析评价     NaN\n",
       "\n",
       "[817 rows x 4 columns]"
      ]
     },
     "execution_count": 6,
     "metadata": {},
     "output_type": "execute_result"
    }
   ],
   "source": [
    "folder = '/workspace/renhuimin/pro_qa/data/general/to_be_labeled_data/v20240122/'\n",
    "df = preprocess_df(folder+'test_negative_suggestion.csv')\n",
    "df"
   ]
  },
  {
   "cell_type": "code",
   "execution_count": 7,
   "id": "cae64006-e108-4dcf-8b4e-5f57534f7401",
   "metadata": {
    "collapsed": true,
    "jupyter": {
     "outputs_hidden": true
    },
    "tags": []
   },
   "outputs": [
    {
     "name": "stderr",
     "output_type": "stream",
     "text": [
      "100%|██████████| 817/817 [34:32<00:00,  2.54s/it]\n"
     ]
    },
    {
     "name": "stdout",
     "output_type": "stream",
     "text": [
      "env dev\n"
     ]
    },
    {
     "name": "stderr",
     "output_type": "stream",
     "text": [
      "  0%|          | 0/817 [00:00<?, ?it/s]"
     ]
    },
    {
     "name": "stdout",
     "output_type": "stream",
     "text": [
      "第0个 search api 调用异常：list index out of range\n"
     ]
    },
    {
     "name": "stderr",
     "output_type": "stream",
     "text": [
      "  0%|          | 1/817 [00:01<13:36,  1.00s/it]"
     ]
    },
    {
     "name": "stdout",
     "output_type": "stream",
     "text": [
      "最大重试次数已达，返回空\n"
     ]
    },
    {
     "name": "stderr",
     "output_type": "stream",
     "text": [
      "  0%|          | 3/817 [00:10<51:40,  3.81s/it]"
     ]
    },
    {
     "name": "stdout",
     "output_type": "stream",
     "text": [
      "search_single_api error: \n",
      "如果财力雄厚，应该考虑购买哪些汽车 list index out of range\n"
     ]
    },
    {
     "name": "stderr",
     "output_type": "stream",
     "text": [
      "  0%|          | 4/817 [00:14<53:28,  3.95s/it]"
     ]
    },
    {
     "name": "stdout",
     "output_type": "stream",
     "text": [
      "第4个 search api 调用异常：list index out of range\n"
     ]
    },
    {
     "name": "stderr",
     "output_type": "stream",
     "text": [
      "  1%|          | 5/817 [00:15<39:02,  2.88s/it]"
     ]
    },
    {
     "name": "stdout",
     "output_type": "stream",
     "text": [
      "最大重试次数已达，返回空\n",
      "第5个 search api 调用异常：list index out of range\n"
     ]
    },
    {
     "name": "stderr",
     "output_type": "stream",
     "text": [
      "  1%|          | 6/817 [00:16<30:20,  2.24s/it]"
     ]
    },
    {
     "name": "stdout",
     "output_type": "stream",
     "text": [
      "最大重试次数已达，返回空\n"
     ]
    },
    {
     "name": "stderr",
     "output_type": "stream",
     "text": [
      "  1%|          | 10/817 [00:24<28:17,  2.10s/it]"
     ]
    },
    {
     "name": "stdout",
     "output_type": "stream",
     "text": [
      "第10个 search api 调用异常：list index out of range\n"
     ]
    },
    {
     "name": "stderr",
     "output_type": "stream",
     "text": [
      "  1%|▏         | 11/817 [00:25<24:17,  1.81s/it]"
     ]
    },
    {
     "name": "stdout",
     "output_type": "stream",
     "text": [
      "最大重试次数已达，返回空\n",
      "第11个 search api 调用异常：list index out of range\n"
     ]
    },
    {
     "name": "stderr",
     "output_type": "stream",
     "text": [
      "  1%|▏         | 12/817 [00:26<21:16,  1.59s/it]"
     ]
    },
    {
     "name": "stdout",
     "output_type": "stream",
     "text": [
      "最大重试次数已达，返回空\n"
     ]
    },
    {
     "name": "stderr",
     "output_type": "stream",
     "text": [
      "  2%|▏         | 14/817 [00:30<25:15,  1.89s/it]"
     ]
    },
    {
     "name": "stdout",
     "output_type": "stream",
     "text": [
      "第14个 search api 调用异常：list index out of range\n"
     ]
    },
    {
     "name": "stderr",
     "output_type": "stream",
     "text": [
      "  2%|▏         | 15/817 [00:31<21:46,  1.63s/it]"
     ]
    },
    {
     "name": "stdout",
     "output_type": "stream",
     "text": [
      "最大重试次数已达，返回空\n"
     ]
    },
    {
     "name": "stderr",
     "output_type": "stream",
     "text": [
      "  2%|▏         | 19/817 [00:45<40:55,  3.08s/it]"
     ]
    },
    {
     "name": "stdout",
     "output_type": "stream",
     "text": [
      "第19个 search api 调用异常：list index out of range\n"
     ]
    },
    {
     "name": "stderr",
     "output_type": "stream",
     "text": [
      "  2%|▏         | 20/817 [00:46<32:38,  2.46s/it]"
     ]
    },
    {
     "name": "stdout",
     "output_type": "stream",
     "text": [
      "最大重试次数已达，返回空\n"
     ]
    },
    {
     "name": "stderr",
     "output_type": "stream",
     "text": [
      "  3%|▎         | 28/817 [01:02<27:35,  2.10s/it]"
     ]
    },
    {
     "name": "stdout",
     "output_type": "stream",
     "text": [
      "第28个 search api 调用异常：list index out of range\n"
     ]
    },
    {
     "name": "stderr",
     "output_type": "stream",
     "text": [
      "  4%|▎         | 29/817 [01:03<23:14,  1.77s/it]"
     ]
    },
    {
     "name": "stdout",
     "output_type": "stream",
     "text": [
      "最大重试次数已达，返回空\n"
     ]
    },
    {
     "name": "stderr",
     "output_type": "stream",
     "text": [
      "  4%|▍         | 32/817 [01:09<23:16,  1.78s/it]"
     ]
    },
    {
     "name": "stdout",
     "output_type": "stream",
     "text": [
      "search_single_api error: \n",
      "黄山的门票价格 list index out of range\n"
     ]
    },
    {
     "name": "stderr",
     "output_type": "stream",
     "text": [
      "  5%|▌         | 44/817 [01:32<22:02,  1.71s/it]"
     ]
    },
    {
     "name": "stdout",
     "output_type": "stream",
     "text": [
      "第44个 search api 调用异常：list index out of range\n"
     ]
    },
    {
     "name": "stderr",
     "output_type": "stream",
     "text": [
      "  6%|▌         | 45/817 [01:33<19:16,  1.50s/it]"
     ]
    },
    {
     "name": "stdout",
     "output_type": "stream",
     "text": [
      "最大重试次数已达，返回空\n"
     ]
    },
    {
     "name": "stderr",
     "output_type": "stream",
     "text": [
      "  6%|▌         | 46/817 [01:34<19:32,  1.52s/it]"
     ]
    },
    {
     "name": "stdout",
     "output_type": "stream",
     "text": [
      "第46个 search api 调用异常：list index out of range\n"
     ]
    },
    {
     "name": "stderr",
     "output_type": "stream",
     "text": [
      "  6%|▌         | 47/817 [01:36<17:31,  1.37s/it]"
     ]
    },
    {
     "name": "stdout",
     "output_type": "stream",
     "text": [
      "最大重试次数已达，返回空\n"
     ]
    },
    {
     "name": "stderr",
     "output_type": "stream",
     "text": [
      "  7%|▋         | 54/817 [01:47<21:27,  1.69s/it]"
     ]
    },
    {
     "name": "stdout",
     "output_type": "stream",
     "text": [
      "search_single_api error: \n",
      "奉节到小寨天坑的路线规划 'data'\n"
     ]
    },
    {
     "name": "stderr",
     "output_type": "stream",
     "text": [
      "  7%|▋         | 58/817 [01:54<21:08,  1.67s/it]"
     ]
    },
    {
     "name": "stdout",
     "output_type": "stream",
     "text": [
      "第58个 search api 调用异常：list index out of range\n"
     ]
    },
    {
     "name": "stderr",
     "output_type": "stream",
     "text": [
      "  7%|▋         | 59/817 [01:55<18:34,  1.47s/it]"
     ]
    },
    {
     "name": "stdout",
     "output_type": "stream",
     "text": [
      "最大重试次数已达，返回空\n"
     ]
    },
    {
     "name": "stderr",
     "output_type": "stream",
     "text": [
      "  8%|▊         | 63/817 [02:02<20:48,  1.66s/it]"
     ]
    },
    {
     "name": "stdout",
     "output_type": "stream",
     "text": [
      "search_single_api error: \n",
      "南宁到乐业天坑的自驾游路线 'data'\n",
      "第63个 search api 调用异常：list index out of range\n"
     ]
    },
    {
     "name": "stderr",
     "output_type": "stream",
     "text": [
      "  8%|▊         | 64/817 [02:03<18:19,  1.46s/it]"
     ]
    },
    {
     "name": "stdout",
     "output_type": "stream",
     "text": [
      "最大重试次数已达，返回空\n"
     ]
    },
    {
     "name": "stderr",
     "output_type": "stream",
     "text": [
      "  8%|▊         | 65/817 [02:04<18:16,  1.46s/it]"
     ]
    },
    {
     "name": "stdout",
     "output_type": "stream",
     "text": [
      "第65个 search api 调用异常：list index out of range\n"
     ]
    },
    {
     "name": "stderr",
     "output_type": "stream",
     "text": [
      "  8%|▊         | 66/817 [02:05<16:32,  1.32s/it]"
     ]
    },
    {
     "name": "stdout",
     "output_type": "stream",
     "text": [
      "最大重试次数已达，返回空\n"
     ]
    },
    {
     "name": "stderr",
     "output_type": "stream",
     "text": [
      "  8%|▊         | 67/817 [02:06<16:44,  1.34s/it]"
     ]
    },
    {
     "name": "stdout",
     "output_type": "stream",
     "text": [
      "search_single_api error: \n",
      "那种价格高昂却并不值得拥有的豪车有哪些 list index out of range\n"
     ]
    },
    {
     "name": "stderr",
     "output_type": "stream",
     "text": [
      "  9%|▉         | 72/817 [02:16<23:39,  1.90s/it]"
     ]
    },
    {
     "name": "stdout",
     "output_type": "stream",
     "text": [
      "search_single_api error: \n",
      "欧洲旅行的批评 'data'\n"
     ]
    },
    {
     "name": "stderr",
     "output_type": "stream",
     "text": [
      "  9%|▉         | 77/817 [02:24<19:52,  1.61s/it]"
     ]
    },
    {
     "name": "stdout",
     "output_type": "stream",
     "text": [
      "第77个 search api 调用异常：list index out of range\n"
     ]
    },
    {
     "name": "stderr",
     "output_type": "stream",
     "text": [
      " 10%|▉         | 78/817 [02:25<17:35,  1.43s/it]"
     ]
    },
    {
     "name": "stdout",
     "output_type": "stream",
     "text": [
      "最大重试次数已达，返回空\n"
     ]
    },
    {
     "name": "stderr",
     "output_type": "stream",
     "text": [
      " 11%|█         | 88/817 [02:40<19:12,  1.58s/it]"
     ]
    },
    {
     "name": "stdout",
     "output_type": "stream",
     "text": [
      "search_single_api error: \n",
      "说几款开起来不舒服的SUV车型 list index out of range\n",
      "第88个 search api 调用异常：list index out of range\n"
     ]
    },
    {
     "name": "stderr",
     "output_type": "stream",
     "text": [
      " 11%|█         | 89/817 [02:41<17:04,  1.41s/it]"
     ]
    },
    {
     "name": "stdout",
     "output_type": "stream",
     "text": [
      "最大重试次数已达，返回空\n"
     ]
    },
    {
     "name": "stderr",
     "output_type": "stream",
     "text": [
      " 12%|█▏        | 99/817 [02:55<16:49,  1.41s/it]"
     ]
    },
    {
     "name": "stdout",
     "output_type": "stream",
     "text": [
      "第99个 search api 调用异常：list index out of range\n"
     ]
    },
    {
     "name": "stderr",
     "output_type": "stream",
     "text": [
      " 12%|█▏        | 100/817 [02:56<15:21,  1.29s/it]"
     ]
    },
    {
     "name": "stdout",
     "output_type": "stream",
     "text": [
      "最大重试次数已达，返回空\n"
     ]
    },
    {
     "name": "stderr",
     "output_type": "stream",
     "text": [
      " 12%|█▏        | 102/817 [02:59<15:40,  1.32s/it]"
     ]
    },
    {
     "name": "stdout",
     "output_type": "stream",
     "text": [
      "search_single_api error: \n",
      "技术更新缓慢的汽车品牌车型推荐 list index out of range\n"
     ]
    },
    {
     "name": "stderr",
     "output_type": "stream",
     "text": [
      " 13%|█▎        | 104/817 [03:01<15:08,  1.27s/it]"
     ]
    },
    {
     "name": "stdout",
     "output_type": "stream",
     "text": [
      "第104个 search api 调用异常：list index out of range\n"
     ]
    },
    {
     "name": "stderr",
     "output_type": "stream",
     "text": [
      " 13%|█▎        | 105/817 [03:02<14:08,  1.19s/it]"
     ]
    },
    {
     "name": "stdout",
     "output_type": "stream",
     "text": [
      "最大重试次数已达，返回空\n"
     ]
    },
    {
     "name": "stderr",
     "output_type": "stream",
     "text": [
      " 13%|█▎        | 108/817 [03:06<15:38,  1.32s/it]"
     ]
    },
    {
     "name": "stdout",
     "output_type": "stream",
     "text": [
      "search_single_api error: \n",
      "哪些驾驶体验一般的经典车型经常被诟病 list index out of range\n"
     ]
    },
    {
     "name": "stderr",
     "output_type": "stream",
     "text": [
      " 14%|█▍        | 116/817 [03:18<16:01,  1.37s/it]"
     ]
    },
    {
     "name": "stdout",
     "output_type": "stream",
     "text": [
      "第116个 search api 调用异常：list index out of range\n"
     ]
    },
    {
     "name": "stderr",
     "output_type": "stream",
     "text": [
      " 14%|█▍        | 117/817 [03:19<14:42,  1.26s/it]"
     ]
    },
    {
     "name": "stdout",
     "output_type": "stream",
     "text": [
      "最大重试次数已达，返回空\n"
     ]
    },
    {
     "name": "stderr",
     "output_type": "stream",
     "text": [
      " 15%|█▍        | 122/817 [03:27<20:37,  1.78s/it]"
     ]
    },
    {
     "name": "stdout",
     "output_type": "stream",
     "text": [
      "第122个 search api 调用异常：list index out of range\n"
     ]
    },
    {
     "name": "stderr",
     "output_type": "stream",
     "text": [
      " 15%|█▌        | 123/817 [03:28<17:53,  1.55s/it]"
     ]
    },
    {
     "name": "stdout",
     "output_type": "stream",
     "text": [
      "最大重试次数已达，返回空\n",
      "第123个 search api 调用异常：list index out of range\n"
     ]
    },
    {
     "name": "stderr",
     "output_type": "stream",
     "text": [
      " 15%|█▌        | 124/817 [03:29<15:59,  1.38s/it]"
     ]
    },
    {
     "name": "stdout",
     "output_type": "stream",
     "text": [
      "最大重试次数已达，返回空\n"
     ]
    },
    {
     "name": "stderr",
     "output_type": "stream",
     "text": [
      " 16%|█▌        | 130/817 [03:38<16:47,  1.47s/it]"
     ]
    },
    {
     "name": "stdout",
     "output_type": "stream",
     "text": [
      "第130个 search api 调用异常：list index out of range\n"
     ]
    },
    {
     "name": "stderr",
     "output_type": "stream",
     "text": [
      " 16%|█▌        | 131/817 [03:39<15:10,  1.33s/it]"
     ]
    },
    {
     "name": "stdout",
     "output_type": "stream",
     "text": [
      "最大重试次数已达，返回空\n"
     ]
    },
    {
     "name": "stderr",
     "output_type": "stream",
     "text": [
      " 16%|█▋        | 134/817 [03:43<14:53,  1.31s/it]"
     ]
    },
    {
     "name": "stdout",
     "output_type": "stream",
     "text": [
      "search_single_api error: \n",
      "请推荐几个动力系统出问题的汽车型号 list index out of range\n"
     ]
    },
    {
     "name": "stderr",
     "output_type": "stream",
     "text": [
      " 17%|█▋        | 137/817 [03:47<14:37,  1.29s/it]"
     ]
    },
    {
     "name": "stdout",
     "output_type": "stream",
     "text": [
      "第137个 search api 调用异常：list index out of range\n"
     ]
    },
    {
     "name": "stderr",
     "output_type": "stream",
     "text": [
      " 17%|█▋        | 138/817 [03:48<13:37,  1.20s/it]"
     ]
    },
    {
     "name": "stdout",
     "output_type": "stream",
     "text": [
      "最大重试次数已达，返回空\n",
      "第138个 search api 调用异常：list index out of range\n"
     ]
    },
    {
     "name": "stderr",
     "output_type": "stream",
     "text": [
      " 17%|█▋        | 139/817 [03:49<12:55,  1.14s/it]"
     ]
    },
    {
     "name": "stdout",
     "output_type": "stream",
     "text": [
      "最大重试次数已达，返回空\n"
     ]
    },
    {
     "name": "stderr",
     "output_type": "stream",
     "text": [
      " 20%|█▉        | 161/817 [04:19<13:32,  1.24s/it]"
     ]
    },
    {
     "name": "stdout",
     "output_type": "stream",
     "text": [
      "search_single_api error: \n",
      "哪些车型因油耗过高而经常被用户投诉 list index out of range\n"
     ]
    },
    {
     "name": "stderr",
     "output_type": "stream",
     "text": [
      " 20%|█▉        | 162/817 [04:22<18:51,  1.73s/it]"
     ]
    },
    {
     "name": "stdout",
     "output_type": "stream",
     "text": [
      "search_single_api error: \n",
      "入门级车型性价比最不高的车型推荐 list index out of range\n"
     ]
    },
    {
     "name": "stderr",
     "output_type": "stream",
     "text": [
      " 20%|█▉        | 163/817 [04:23<17:01,  1.56s/it]"
     ]
    },
    {
     "name": "stdout",
     "output_type": "stream",
     "text": [
      "search_single_api error: \n",
      "噪音隔离效果差的车型推荐 list index out of range\n"
     ]
    },
    {
     "name": "stderr",
     "output_type": "stream",
     "text": [
      " 20%|██        | 164/817 [04:24<16:36,  1.53s/it]"
     ]
    },
    {
     "name": "stdout",
     "output_type": "stream",
     "text": [
      "search_single_api error: \n",
      "哪些车的后排空间狭窄 list index out of range\n"
     ]
    },
    {
     "name": "stderr",
     "output_type": "stream",
     "text": [
      " 21%|██        | 170/817 [04:35<19:06,  1.77s/it]"
     ]
    },
    {
     "name": "stdout",
     "output_type": "stream",
     "text": [
      "search_single_api error: \n",
      "驾驶视野舒适的车型推荐 list index out of range\n"
     ]
    },
    {
     "name": "stderr",
     "output_type": "stream",
     "text": [
      " 21%|██        | 171/817 [04:37<19:01,  1.77s/it]"
     ]
    },
    {
     "name": "stdout",
     "output_type": "stream",
     "text": [
      "search_single_api error: \n",
      "哪些SUV因设计过时而在市场上失宠？ list index out of range\n"
     ]
    },
    {
     "name": "stderr",
     "output_type": "stream",
     "text": [
      " 21%|██        | 172/817 [04:38<17:06,  1.59s/it]"
     ]
    },
    {
     "name": "stdout",
     "output_type": "stream",
     "text": [
      "search_single_api error: \n",
      "加速反应慢的车型有哪些推荐 list index out of range\n"
     ]
    },
    {
     "name": "stderr",
     "output_type": "stream",
     "text": [
      " 21%|██        | 173/817 [04:40<15:58,  1.49s/it]"
     ]
    },
    {
     "name": "stdout",
     "output_type": "stream",
     "text": [
      "search_single_api error: \n",
      "电子娱乐系统经常故障的车型推荐 list index out of range\n"
     ]
    },
    {
     "name": "stderr",
     "output_type": "stream",
     "text": [
      " 21%|██▏       | 174/817 [04:41<14:33,  1.36s/it]"
     ]
    },
    {
     "name": "stdout",
     "output_type": "stream",
     "text": [
      "search_single_api error: \n",
      "在雪地或湿滑路面的操控性差的车型推荐 list index out of range\n"
     ]
    },
    {
     "name": "stderr",
     "output_type": "stream",
     "text": [
      " 22%|██▏       | 176/817 [04:45<18:10,  1.70s/it]"
     ]
    },
    {
     "name": "stdout",
     "output_type": "stream",
     "text": [
      "search_single_api error: \n",
      "排放问题严重不符合绿色环保标准的车型推荐 list index out of range\n"
     ]
    },
    {
     "name": "stderr",
     "output_type": "stream",
     "text": [
      " 28%|██▊       | 225/817 [05:55<17:04,  1.73s/it]"
     ]
    },
    {
     "name": "stdout",
     "output_type": "stream",
     "text": [
      "search_single_api error: \n",
      "驾驶体验被普遍评价为差的车型推荐哪些 list index out of range\n"
     ]
    },
    {
     "name": "stderr",
     "output_type": "stream",
     "text": [
      " 28%|██▊       | 226/817 [05:57<16:50,  1.71s/it]"
     ]
    },
    {
     "name": "stdout",
     "output_type": "stream",
     "text": [
      "search_single_api error: \n",
      "对于追求性价比的消费者而言，最不推荐购买的汽车有哪些 list index out of range\n"
     ]
    },
    {
     "name": "stderr",
     "output_type": "stream",
     "text": [
      " 28%|██▊       | 227/817 [05:59<16:43,  1.70s/it]"
     ]
    },
    {
     "name": "stdout",
     "output_type": "stream",
     "text": [
      "search_single_api error: \n",
      "哪些车型的噪音控制做得很糟糕 list index out of range\n"
     ]
    },
    {
     "name": "stderr",
     "output_type": "stream",
     "text": [
      " 28%|██▊       | 229/817 [06:00<11:48,  1.20s/it]"
     ]
    },
    {
     "name": "stdout",
     "output_type": "stream",
     "text": [
      "search_single_api error: \n",
      "贬值速度极快的车型 list index out of range\n"
     ]
    },
    {
     "name": "stderr",
     "output_type": "stream",
     "text": [
      " 28%|██▊       | 230/817 [06:01<11:43,  1.20s/it]"
     ]
    },
    {
     "name": "stdout",
     "output_type": "stream",
     "text": [
      "search_single_api error: \n",
      "内饰材质最差的车型推荐 list index out of range\n"
     ]
    },
    {
     "name": "stderr",
     "output_type": "stream",
     "text": [
      " 28%|██▊       | 231/817 [06:04<15:53,  1.63s/it]"
     ]
    },
    {
     "name": "stdout",
     "output_type": "stream",
     "text": [
      "search_single_api error: \n",
      "最不适合长途旅行的车型推荐 list index out of range\n"
     ]
    },
    {
     "name": "stderr",
     "output_type": "stream",
     "text": [
      " 28%|██▊       | 232/817 [06:05<15:30,  1.59s/it]"
     ]
    },
    {
     "name": "stdout",
     "output_type": "stream",
     "text": [
      "search_single_api error: \n",
      "哪些车的加速性能严重不足 list index out of range\n"
     ]
    },
    {
     "name": "stderr",
     "output_type": "stream",
     "text": [
      " 29%|██▉       | 236/817 [06:11<13:49,  1.43s/it]"
     ]
    },
    {
     "name": "stdout",
     "output_type": "stream",
     "text": [
      "search_single_api error: \n",
      "不安全感车型有哪些 list index out of range\n"
     ]
    },
    {
     "name": "stderr",
     "output_type": "stream",
     "text": [
      " 29%|██▉       | 238/817 [06:14<13:08,  1.36s/it]"
     ]
    },
    {
     "name": "stdout",
     "output_type": "stream",
     "text": [
      "search_single_api error: \n",
      "电子系统最不稳定的车型 list index out of range\n"
     ]
    },
    {
     "name": "stderr",
     "output_type": "stream",
     "text": [
      " 32%|███▏      | 261/817 [06:47<12:45,  1.38s/it]"
     ]
    },
    {
     "name": "stdout",
     "output_type": "stream",
     "text": [
      "第261个 search api 调用异常：list index out of range\n"
     ]
    },
    {
     "name": "stderr",
     "output_type": "stream",
     "text": [
      " 32%|███▏      | 262/817 [06:48<11:41,  1.26s/it]"
     ]
    },
    {
     "name": "stdout",
     "output_type": "stream",
     "text": [
      "最大重试次数已达，返回空\n"
     ]
    },
    {
     "name": "stderr",
     "output_type": "stream",
     "text": [
      " 32%|███▏      | 263/817 [06:50<11:07,  1.20s/it]"
     ]
    },
    {
     "name": "stdout",
     "output_type": "stream",
     "text": [
      "第263个 search api 调用异常：list index out of range\n"
     ]
    },
    {
     "name": "stderr",
     "output_type": "stream",
     "text": [
      " 32%|███▏      | 264/817 [06:51<10:32,  1.14s/it]"
     ]
    },
    {
     "name": "stdout",
     "output_type": "stream",
     "text": [
      "最大重试次数已达，返回空\n",
      "第264个 search api 调用异常：list index out of range\n"
     ]
    },
    {
     "name": "stderr",
     "output_type": "stream",
     "text": [
      " 32%|███▏      | 265/817 [06:52<10:07,  1.10s/it]"
     ]
    },
    {
     "name": "stdout",
     "output_type": "stream",
     "text": [
      "最大重试次数已达，返回空\n"
     ]
    },
    {
     "name": "stderr",
     "output_type": "stream",
     "text": [
      " 33%|███▎      | 267/817 [06:55<14:19,  1.56s/it]"
     ]
    },
    {
     "name": "stdout",
     "output_type": "stream",
     "text": [
      "第267个 search api 调用异常：list index out of range\n"
     ]
    },
    {
     "name": "stderr",
     "output_type": "stream",
     "text": [
      " 33%|███▎      | 268/817 [06:56<12:46,  1.40s/it]"
     ]
    },
    {
     "name": "stdout",
     "output_type": "stream",
     "text": [
      "最大重试次数已达，返回空\n",
      "第268个 search api 调用异常：list index out of range\n"
     ]
    },
    {
     "name": "stderr",
     "output_type": "stream",
     "text": [
      " 33%|███▎      | 269/817 [06:57<11:39,  1.28s/it]"
     ]
    },
    {
     "name": "stdout",
     "output_type": "stream",
     "text": [
      "最大重试次数已达，返回空\n"
     ]
    },
    {
     "name": "stderr",
     "output_type": "stream",
     "text": [
      " 33%|███▎      | 273/817 [07:03<13:02,  1.44s/it]"
     ]
    },
    {
     "name": "stdout",
     "output_type": "stream",
     "text": [
      "search_single_api error: \n",
      "旅游建议避免的目的地 'data'\n",
      "第273个 search api 调用异常：list index out of range\n"
     ]
    },
    {
     "name": "stderr",
     "output_type": "stream",
     "text": [
      " 34%|███▎      | 274/817 [07:04<11:49,  1.31s/it]"
     ]
    },
    {
     "name": "stdout",
     "output_type": "stream",
     "text": [
      "最大重试次数已达，返回空\n"
     ]
    },
    {
     "name": "stderr",
     "output_type": "stream",
     "text": [
      " 34%|███▎      | 275/817 [07:06<11:27,  1.27s/it]"
     ]
    },
    {
     "name": "stdout",
     "output_type": "stream",
     "text": [
      "第275个 search api 调用异常：list index out of range\n"
     ]
    },
    {
     "name": "stderr",
     "output_type": "stream",
     "text": [
      " 34%|███▍      | 276/817 [07:07<10:42,  1.19s/it]"
     ]
    },
    {
     "name": "stdout",
     "output_type": "stream",
     "text": [
      "最大重试次数已达，返回空\n"
     ]
    },
    {
     "name": "stderr",
     "output_type": "stream",
     "text": [
      " 34%|███▍      | 277/817 [07:09<13:08,  1.46s/it]"
     ]
    },
    {
     "name": "stdout",
     "output_type": "stream",
     "text": [
      "第277个 search api 调用异常：list index out of range\n"
     ]
    },
    {
     "name": "stderr",
     "output_type": "stream",
     "text": [
      " 34%|███▍      | 278/817 [07:10<11:52,  1.32s/it]"
     ]
    },
    {
     "name": "stdout",
     "output_type": "stream",
     "text": [
      "最大重试次数已达，返回空\n"
     ]
    },
    {
     "name": "stderr",
     "output_type": "stream",
     "text": [
      " 34%|███▍      | 280/817 [07:13<13:24,  1.50s/it]"
     ]
    },
    {
     "name": "stdout",
     "output_type": "stream",
     "text": [
      "第280个 search api 调用异常：list index out of range\n"
     ]
    },
    {
     "name": "stderr",
     "output_type": "stream",
     "text": [
      " 34%|███▍      | 281/817 [07:14<12:03,  1.35s/it]"
     ]
    },
    {
     "name": "stdout",
     "output_type": "stream",
     "text": [
      "最大重试次数已达，返回空\n",
      "第281个 search api 调用异常：list index out of range\n"
     ]
    },
    {
     "name": "stderr",
     "output_type": "stream",
     "text": [
      " 35%|███▍      | 282/817 [07:15<11:06,  1.24s/it]"
     ]
    },
    {
     "name": "stdout",
     "output_type": "stream",
     "text": [
      "最大重试次数已达，返回空\n",
      "第282个 search api 调用异常：list index out of range\n"
     ]
    },
    {
     "name": "stderr",
     "output_type": "stream",
     "text": [
      " 35%|███▍      | 283/817 [07:16<10:25,  1.17s/it]"
     ]
    },
    {
     "name": "stdout",
     "output_type": "stream",
     "text": [
      "最大重试次数已达，返回空\n"
     ]
    },
    {
     "name": "stderr",
     "output_type": "stream",
     "text": [
      " 35%|███▍      | 284/817 [07:17<10:38,  1.20s/it]"
     ]
    },
    {
     "name": "stdout",
     "output_type": "stream",
     "text": [
      "第284个 search api 调用异常：list index out of range\n"
     ]
    },
    {
     "name": "stderr",
     "output_type": "stream",
     "text": [
      " 35%|███▍      | 285/817 [07:18<10:05,  1.14s/it]"
     ]
    },
    {
     "name": "stdout",
     "output_type": "stream",
     "text": [
      "最大重试次数已达，返回空\n"
     ]
    },
    {
     "name": "stderr",
     "output_type": "stream",
     "text": [
      " 53%|█████▎    | 431/817 [10:59<10:09,  1.58s/it]"
     ]
    },
    {
     "name": "stdout",
     "output_type": "stream",
     "text": [
      "第431个 search api 调用异常：list index out of range\n"
     ]
    },
    {
     "name": "stderr",
     "output_type": "stream",
     "text": [
      " 53%|█████▎    | 432/817 [11:00<09:01,  1.41s/it]"
     ]
    },
    {
     "name": "stdout",
     "output_type": "stream",
     "text": [
      "最大重试次数已达，返回空\n"
     ]
    },
    {
     "name": "stderr",
     "output_type": "stream",
     "text": [
      " 53%|█████▎    | 436/817 [11:05<08:07,  1.28s/it]"
     ]
    },
    {
     "name": "stdout",
     "output_type": "stream",
     "text": [
      "search_single_api error: \n",
      "购买怎样的车型后悔率较高 list index out of range\n"
     ]
    },
    {
     "name": "stderr",
     "output_type": "stream",
     "text": [
      " 56%|█████▋    | 461/817 [11:45<08:55,  1.51s/it]"
     ]
    },
    {
     "name": "stdout",
     "output_type": "stream",
     "text": [
      "search_single_api error: \n",
      "被车主吐槽操控性差的SUV车型推荐 list index out of range\n"
     ]
    },
    {
     "name": "stderr",
     "output_type": "stream",
     "text": [
      " 58%|█████▊    | 476/817 [12:10<13:30,  2.38s/it]"
     ]
    },
    {
     "name": "stdout",
     "output_type": "stream",
     "text": [
      "search_single_api error: \n",
      "那种类型的食物最容易引起食物中毒 'data'\n"
     ]
    },
    {
     "name": "stderr",
     "output_type": "stream",
     "text": [
      " 59%|█████▊    | 479/817 [12:14<10:02,  1.78s/it]"
     ]
    },
    {
     "name": "stdout",
     "output_type": "stream",
     "text": [
      "第479个 search api 调用异常：list index out of range\n"
     ]
    },
    {
     "name": "stderr",
     "output_type": "stream",
     "text": [
      " 59%|█████▉    | 480/817 [12:15<08:41,  1.55s/it]"
     ]
    },
    {
     "name": "stdout",
     "output_type": "stream",
     "text": [
      "最大重试次数已达，返回空\n"
     ]
    },
    {
     "name": "stderr",
     "output_type": "stream",
     "text": [
      " 61%|██████    | 496/817 [12:36<05:46,  1.08s/it]"
     ]
    },
    {
     "name": "stdout",
     "output_type": "stream",
     "text": [
      "第496个 search api 调用异常：list index out of range\n"
     ]
    },
    {
     "name": "stderr",
     "output_type": "stream",
     "text": [
      " 61%|██████    | 497/817 [12:37<05:37,  1.06s/it]"
     ]
    },
    {
     "name": "stdout",
     "output_type": "stream",
     "text": [
      "最大重试次数已达，返回空\n"
     ]
    },
    {
     "name": "stderr",
     "output_type": "stream",
     "text": [
      " 63%|██████▎   | 514/817 [12:57<05:57,  1.18s/it]"
     ]
    },
    {
     "name": "stdout",
     "output_type": "stream",
     "text": [
      "第514个 search api 调用异常：list index out of range\n"
     ]
    },
    {
     "name": "stderr",
     "output_type": "stream",
     "text": [
      " 63%|██████▎   | 515/817 [12:58<05:39,  1.13s/it]"
     ]
    },
    {
     "name": "stdout",
     "output_type": "stream",
     "text": [
      "最大重试次数已达，返回空\n"
     ]
    },
    {
     "name": "stderr",
     "output_type": "stream",
     "text": [
      " 65%|██████▍   | 528/817 [13:16<06:38,  1.38s/it]"
     ]
    },
    {
     "name": "stdout",
     "output_type": "stream",
     "text": [
      "search_single_api error: \n",
      "买哪种车型的人最后悔的例子比较多 list index out of range\n"
     ]
    },
    {
     "name": "stderr",
     "output_type": "stream",
     "text": [
      " 65%|██████▍   | 529/817 [13:18<08:02,  1.68s/it]"
     ]
    },
    {
     "name": "stdout",
     "output_type": "stream",
     "text": [
      "第529个 search api 调用异常：list index out of range\n"
     ]
    },
    {
     "name": "stderr",
     "output_type": "stream",
     "text": [
      " 65%|██████▍   | 530/817 [13:19<07:02,  1.47s/it]"
     ]
    },
    {
     "name": "stdout",
     "output_type": "stream",
     "text": [
      "最大重试次数已达，返回空\n"
     ]
    },
    {
     "name": "stderr",
     "output_type": "stream",
     "text": [
      " 65%|██████▌   | 533/817 [13:24<07:58,  1.69s/it]"
     ]
    },
    {
     "name": "stdout",
     "output_type": "stream",
     "text": [
      "第533个 search api 调用异常：list index out of range\n"
     ]
    },
    {
     "name": "stderr",
     "output_type": "stream",
     "text": [
      " 65%|██████▌   | 534/817 [13:25<06:58,  1.48s/it]"
     ]
    },
    {
     "name": "stdout",
     "output_type": "stream",
     "text": [
      "最大重试次数已达，返回空\n"
     ]
    },
    {
     "name": "stderr",
     "output_type": "stream",
     "text": [
      " 67%|██████▋   | 551/817 [13:47<04:44,  1.07s/it]"
     ]
    },
    {
     "name": "stdout",
     "output_type": "stream",
     "text": [
      "search_single_api error: \n",
      "哈哈你太牛逼了 list index out of range\n"
     ]
    },
    {
     "name": "stderr",
     "output_type": "stream",
     "text": [
      " 68%|██████▊   | 553/817 [13:49<03:49,  1.15it/s]"
     ]
    },
    {
     "name": "stdout",
     "output_type": "stream",
     "text": [
      "search_single_api error: \n",
      "你最讨厌的互联网产品是哪些 'data'\n"
     ]
    },
    {
     "name": "stderr",
     "output_type": "stream",
     "text": [
      " 75%|███████▍  | 612/817 [15:11<04:09,  1.22s/it]"
     ]
    },
    {
     "name": "stdout",
     "output_type": "stream",
     "text": [
      "search_single_api error: \n",
      "哪款新推出的车型性价比最不合理 list index out of range\n"
     ]
    },
    {
     "name": "stderr",
     "output_type": "stream",
     "text": [
      " 76%|███████▋  | 625/817 [15:29<04:30,  1.41s/it]"
     ]
    },
    {
     "name": "stdout",
     "output_type": "stream",
     "text": [
      "第625个 search api 调用异常：list index out of range\n"
     ]
    },
    {
     "name": "stderr",
     "output_type": "stream",
     "text": [
      " 77%|███████▋  | 626/817 [15:30<04:06,  1.29s/it]"
     ]
    },
    {
     "name": "stdout",
     "output_type": "stream",
     "text": [
      "最大重试次数已达，返回空\n"
     ]
    },
    {
     "name": "stderr",
     "output_type": "stream",
     "text": [
      " 83%|████████▎ | 681/817 [16:45<03:03,  1.35s/it]"
     ]
    },
    {
     "name": "stdout",
     "output_type": "stream",
     "text": [
      "第681个 search api 调用异常：list index out of range\n"
     ]
    },
    {
     "name": "stderr",
     "output_type": "stream",
     "text": [
      " 83%|████████▎ | 682/817 [16:46<02:48,  1.25s/it]"
     ]
    },
    {
     "name": "stdout",
     "output_type": "stream",
     "text": [
      "最大重试次数已达，返回空\n"
     ]
    },
    {
     "name": "stderr",
     "output_type": "stream",
     "text": [
      " 90%|████████▉ | 734/817 [17:59<01:53,  1.37s/it]"
     ]
    },
    {
     "name": "stdout",
     "output_type": "stream",
     "text": [
      "search_single_api error: \n",
      "苏州园林的玩法 'data'\n"
     ]
    },
    {
     "name": "stderr",
     "output_type": "stream",
     "text": [
      " 91%|█████████ | 745/817 [18:14<01:48,  1.50s/it]"
     ]
    },
    {
     "name": "stdout",
     "output_type": "stream",
     "text": [
      "第745个 search api 调用异常：list index out of range\n"
     ]
    },
    {
     "name": "stderr",
     "output_type": "stream",
     "text": [
      " 91%|█████████▏| 746/817 [18:15<01:35,  1.35s/it]"
     ]
    },
    {
     "name": "stdout",
     "output_type": "stream",
     "text": [
      "最大重试次数已达，返回空\n"
     ]
    },
    {
     "name": "stderr",
     "output_type": "stream",
     "text": [
      "100%|██████████| 817/817 [19:45<00:00,  1.45s/it]\n"
     ]
    }
   ],
   "source": [
    "# step 1. 生成API\n",
    "api_df = get_api_df(df,category='QASearch') # category 具体设置 见函数说明\n",
    "api_df = api_df.astype(str)\n",
    "\n",
    "# step 2. 获取observation \n",
    "obs_df = get_all_observation(api_df)\n",
    "\n",
    "obs_df.to_csv(folder+'test_negative_suggestion2.csv',index=False)"
   ]
  },
  {
   "cell_type": "markdown",
   "id": "e305b6f2-d5e5-4906-8845-8d50526e8b0c",
   "metadata": {},
   "source": [
    "### csv格式转为jsonl格式"
   ]
  },
  {
   "cell_type": "code",
   "execution_count": 2,
   "id": "b0695039-ca16-42be-82fd-2d6bd85e1fcc",
   "metadata": {
    "tags": []
   },
   "outputs": [
    {
     "data": {
      "text/html": [
       "<div>\n",
       "<style scoped>\n",
       "    .dataframe tbody tr th:only-of-type {\n",
       "        vertical-align: middle;\n",
       "    }\n",
       "\n",
       "    .dataframe tbody tr th {\n",
       "        vertical-align: top;\n",
       "    }\n",
       "\n",
       "    .dataframe thead th {\n",
       "        text-align: right;\n",
       "    }\n",
       "</style>\n",
       "<table border=\"1\" class=\"dataframe\">\n",
       "  <thead>\n",
       "    <tr style=\"text-align: right;\">\n",
       "      <th></th>\n",
       "      <th>id</th>\n",
       "      <th>source</th>\n",
       "      <th>messages</th>\n",
       "    </tr>\n",
       "  </thead>\n",
       "  <tbody>\n",
       "    <tr>\n",
       "      <th>0</th>\n",
       "      <td>test-1</td>\n",
       "      <td>测试</td>\n",
       "      <td>[{'role': 'user', 'content': ['世界的第三高峰是哪个']}, ...</td>\n",
       "    </tr>\n",
       "  </tbody>\n",
       "</table>\n",
       "</div>"
      ],
      "text/plain": [
       "       id source                                           messages\n",
       "0  test-1     测试  [{'role': 'user', 'content': ['世界的第三高峰是哪个']}, ..."
      ]
     },
     "execution_count": 2,
     "metadata": {},
     "output_type": "execute_result"
    }
   ],
   "source": [
    "data = {\n",
    "'id':['test-1'],\n",
    "'turn_id':[1],\n",
    "'source':['测试'],\n",
    "'user-query':['世界的第三高峰是哪个'],\n",
    "'Thought':['涉及事实问答，查询世界第三高峰的信息。'],\n",
    "'API':['<|api_start|><|kvs|>APINAME=>QASearch<|kve|><|kvs|>CATEGORY=>地理<|kve|><|kvs|>QUERY=>世界第三高峰<|kve|><|kvs|>TAG=>世界&第三高峰<|kve|><|api_end|>'],\n",
    "'observation':[\"[['一些内容','一些内容','一些内容']]\"],\n",
    "'assistant':['世界的第三高峰是干城章嘉峰，位于喜马拉雅山脉，海拔高达8586米。'],\n",
    "'relevant_label':['相关']\n",
    "}\n",
    "df = pd.DataFrame(data)\n",
    "sft_df = convert_csv_to_sft(df.copy(),api_flag=True)\n",
    "sft_df"
   ]
  },
  {
   "cell_type": "markdown",
   "id": "9f3ad8cf-5a0a-4424-8f1d-92aa1fbc27f8",
   "metadata": {},
   "source": [
    "### QAsearch"
   ]
  },
  {
   "cell_type": "code",
   "execution_count": 2,
   "id": "c1f471b7-39ba-4e25-8f1d-ed65c259f79f",
   "metadata": {
    "collapsed": true,
    "jupyter": {
     "outputs_hidden": true
    },
    "tags": []
   },
   "outputs": [
    {
     "name": "stderr",
     "output_type": "stream",
     "text": [
      "100%|██████████| 3/3 [00:07<00:00,  2.58s/it]\n"
     ]
    },
    {
     "name": "stdout",
     "output_type": "stream",
     "text": [
      "env dev\n"
     ]
    },
    {
     "name": "stderr",
     "output_type": "stream",
     "text": [
      "100%|██████████| 3/3 [00:02<00:00,  1.09it/s]"
     ]
    },
    {
     "name": "stdout",
     "output_type": "stream",
     "text": [
      "search_single_api error: \n",
      "世界最高的山峰 list index out of range\n"
     ]
    },
    {
     "name": "stderr",
     "output_type": "stream",
     "text": [
      "\n"
     ]
    },
    {
     "data": {
      "text/html": [
       "<div>\n",
       "<style scoped>\n",
       "    .dataframe tbody tr th:only-of-type {\n",
       "        vertical-align: middle;\n",
       "    }\n",
       "\n",
       "    .dataframe tbody tr th {\n",
       "        vertical-align: top;\n",
       "    }\n",
       "\n",
       "    .dataframe thead th {\n",
       "        text-align: right;\n",
       "    }\n",
       "</style>\n",
       "<table border=\"1\" class=\"dataframe\">\n",
       "  <thead>\n",
       "    <tr style=\"text-align: right;\">\n",
       "      <th></th>\n",
       "      <th>user-query</th>\n",
       "      <th>Thought</th>\n",
       "      <th>API</th>\n",
       "      <th>API-NAME</th>\n",
       "      <th>API-CATEGORY</th>\n",
       "      <th>API-QUERY</th>\n",
       "      <th>API-TAG</th>\n",
       "      <th>observation</th>\n",
       "    </tr>\n",
       "  </thead>\n",
       "  <tbody>\n",
       "    <tr>\n",
       "      <th>0</th>\n",
       "      <td>介绍下刘翔</td>\n",
       "      <td>涉及人物知识, 查询“刘翔的简介”信息作为参考</td>\n",
       "      <td>&lt;|api_start|&gt;&lt;|kvs|&gt;APINAME=&gt;QASearch&lt;|kve|&gt;&lt;|...</td>\n",
       "      <td>['QASearch']</td>\n",
       "      <td>['人物']</td>\n",
       "      <td>['刘翔的简介']</td>\n",
       "      <td>['刘翔&amp;简介']</td>\n",
       "      <td>[[刘翔 - 知乎 刘翔，1983年7月13日出生于上海市普陀区，中国男子田径队110米栏运...</td>\n",
       "    </tr>\n",
       "    <tr>\n",
       "      <th>1</th>\n",
       "      <td>姚明有多高</td>\n",
       "      <td>涉及人物的身高信息，查询“姚明的身高”信息</td>\n",
       "      <td>&lt;|api_start|&gt;&lt;|kvs|&gt;APINAME=&gt;QASearch&lt;|kve|&gt;&lt;|...</td>\n",
       "      <td>['QASearch']</td>\n",
       "      <td>['人物']</td>\n",
       "      <td>['姚明的身高是多少']</td>\n",
       "      <td>['姚明&amp;身高']</td>\n",
       "      <td>[[姚明身高是多少? - 百度知道 发布时间：2017-06-08 姚明的NBA官方身高是7...</td>\n",
       "    </tr>\n",
       "    <tr>\n",
       "      <th>2</th>\n",
       "      <td>世界上最高的山峰是什么？</td>\n",
       "      <td>涉及世界之最知识, 查询“世界最高的山峰”信息作为参考</td>\n",
       "      <td>&lt;|api_start|&gt;&lt;|kvs|&gt;APINAME=&gt;QASearch&lt;|kve|&gt;&lt;|...</td>\n",
       "      <td>['QASearch']</td>\n",
       "      <td>['世界之最']</td>\n",
       "      <td>['世界最高的山峰']</td>\n",
       "      <td>['世界&amp;最高&amp;山峰']</td>\n",
       "      <td>[[世界十大山峰_百度百科 世界十大山峰分别为珠穆朗玛峰、乔戈里峰、干城章嘉峰、洛子峰、马卡...</td>\n",
       "    </tr>\n",
       "  </tbody>\n",
       "</table>\n",
       "</div>"
      ],
      "text/plain": [
       "     user-query                      Thought  \\\n",
       "0         介绍下刘翔      涉及人物知识, 查询“刘翔的简介”信息作为参考   \n",
       "1         姚明有多高        涉及人物的身高信息，查询“姚明的身高”信息   \n",
       "2  世界上最高的山峰是什么？  涉及世界之最知识, 查询“世界最高的山峰”信息作为参考   \n",
       "\n",
       "                                                 API      API-NAME  \\\n",
       "0  <|api_start|><|kvs|>APINAME=>QASearch<|kve|><|...  ['QASearch']   \n",
       "1  <|api_start|><|kvs|>APINAME=>QASearch<|kve|><|...  ['QASearch']   \n",
       "2  <|api_start|><|kvs|>APINAME=>QASearch<|kve|><|...  ['QASearch']   \n",
       "\n",
       "  API-CATEGORY     API-QUERY       API-TAG  \\\n",
       "0       ['人物']     ['刘翔的简介']     ['刘翔&简介']   \n",
       "1       ['人物']  ['姚明的身高是多少']     ['姚明&身高']   \n",
       "2     ['世界之最']   ['世界最高的山峰']  ['世界&最高&山峰']   \n",
       "\n",
       "                                         observation  \n",
       "0  [[刘翔 - 知乎 刘翔，1983年7月13日出生于上海市普陀区，中国男子田径队110米栏运...  \n",
       "1  [[姚明身高是多少? - 百度知道 发布时间：2017-06-08 姚明的NBA官方身高是7...  \n",
       "2  [[世界十大山峰_百度百科 世界十大山峰分别为珠穆朗玛峰、乔戈里峰、干城章嘉峰、洛子峰、马卡...  "
      ]
     },
     "execution_count": 2,
     "metadata": {},
     "output_type": "execute_result"
    }
   ],
   "source": [
    "querys = {'user-query':['介绍下刘翔','姚明有多高','世界上最高的山峰是什么？']}\n",
    "df = pd.DataFrame(querys)\n",
    "\n",
    "# step 1. 生成API\n",
    "api_df = get_api_df(df,category='QASearch') # category 具体设置 见函数说明\n",
    "api_df = api_df.astype(str)\n",
    "\n",
    "# step 2. 获取observation \n",
    "obs_df = get_all_observation(api_df,top_k=5,env='dev') # topk返回obs数量，env环境 dev 或 arch\n",
    "obs_df"
   ]
  },
  {
   "cell_type": "markdown",
   "id": "62cd5d63-497e-4223-8a06-b96a8c686390",
   "metadata": {},
   "source": [
    "### AUTOSearch"
   ]
  },
  {
   "cell_type": "code",
   "execution_count": 4,
   "id": "d4a7c3dc-cc95-4b0c-b2d5-40b7c7ae22b3",
   "metadata": {
    "tags": []
   },
   "outputs": [
    {
     "name": "stderr",
     "output_type": "stream",
     "text": [
      "100%|██████████| 2/2 [00:04<00:00,  2.30s/it]\n"
     ]
    },
    {
     "name": "stdout",
     "output_type": "stream",
     "text": [
      "env dev\n"
     ]
    },
    {
     "name": "stderr",
     "output_type": "stream",
     "text": [
      "100%|██████████| 2/2 [00:00<00:00,  3.47it/s]"
     ]
    },
    {
     "name": "stdout",
     "output_type": "stream",
     "text": [
      "search_single_api error: \n",
      "理想L9多少钱？ list index out of range\n",
      "search_single_api error: \n",
      "介绍下L8 list index out of range\n"
     ]
    },
    {
     "name": "stderr",
     "output_type": "stream",
     "text": [
      "\n"
     ]
    },
    {
     "data": {
      "text/html": [
       "<div>\n",
       "<style scoped>\n",
       "    .dataframe tbody tr th:only-of-type {\n",
       "        vertical-align: middle;\n",
       "    }\n",
       "\n",
       "    .dataframe tbody tr th {\n",
       "        vertical-align: top;\n",
       "    }\n",
       "\n",
       "    .dataframe thead th {\n",
       "        text-align: right;\n",
       "    }\n",
       "</style>\n",
       "<table border=\"1\" class=\"dataframe\">\n",
       "  <thead>\n",
       "    <tr style=\"text-align: right;\">\n",
       "      <th></th>\n",
       "      <th>user-query</th>\n",
       "      <th>Thought</th>\n",
       "      <th>API</th>\n",
       "      <th>API-NAME</th>\n",
       "      <th>API-CATEGORY</th>\n",
       "      <th>API-QUERY</th>\n",
       "      <th>API-TAG</th>\n",
       "      <th>observation</th>\n",
       "    </tr>\n",
       "  </thead>\n",
       "  <tbody>\n",
       "    <tr>\n",
       "      <th>0</th>\n",
       "      <td>理想L9多少钱？</td>\n",
       "      <td>涉及汽车问答，需要查询理想L9售价的信息。</td>\n",
       "      <td>&lt;|api_start|&gt;&lt;|kvs|&gt;APINAME=&gt;AUTOSearch&lt;|kve|&gt;...</td>\n",
       "      <td>['AUTOSearch']</td>\n",
       "      <td>['汽车']</td>\n",
       "      <td>['理想L9售价']</td>\n",
       "      <td>['理想L9&amp;售价']</td>\n",
       "      <td>[[ 我目前无法提供准确的答案。]]</td>\n",
       "    </tr>\n",
       "    <tr>\n",
       "      <th>1</th>\n",
       "      <td>介绍下L8</td>\n",
       "      <td>涉及汽车问答，查询L8的简介信息做参考</td>\n",
       "      <td>&lt;|api_start|&gt;&lt;|kvs|&gt;APINAME=&gt;AUTOSearch&lt;|kve|&gt;...</td>\n",
       "      <td>['AUTOSearch']</td>\n",
       "      <td>['汽车']</td>\n",
       "      <td>['L8的简介']</td>\n",
       "      <td>['L8&amp;简介']</td>\n",
       "      <td>[[理想L8简介 尺寸：理想L8传承理想ONE的经典中大型六座SUV的空间布局，车身尺寸为：...</td>\n",
       "    </tr>\n",
       "  </tbody>\n",
       "</table>\n",
       "</div>"
      ],
      "text/plain": [
       "  user-query                Thought  \\\n",
       "0   理想L9多少钱？  涉及汽车问答，需要查询理想L9售价的信息。   \n",
       "1      介绍下L8    涉及汽车问答，查询L8的简介信息做参考   \n",
       "\n",
       "                                                 API        API-NAME  \\\n",
       "0  <|api_start|><|kvs|>APINAME=>AUTOSearch<|kve|>...  ['AUTOSearch']   \n",
       "1  <|api_start|><|kvs|>APINAME=>AUTOSearch<|kve|>...  ['AUTOSearch']   \n",
       "\n",
       "  API-CATEGORY   API-QUERY      API-TAG  \\\n",
       "0       ['汽车']  ['理想L9售价']  ['理想L9&售价']   \n",
       "1       ['汽车']   ['L8的简介']    ['L8&简介']   \n",
       "\n",
       "                                         observation  \n",
       "0                                 [[ 我目前无法提供准确的答案。]]  \n",
       "1  [[理想L8简介 尺寸：理想L8传承理想ONE的经典中大型六座SUV的空间布局，车身尺寸为：...  "
      ]
     },
     "execution_count": 4,
     "metadata": {},
     "output_type": "execute_result"
    }
   ],
   "source": [
    "querys = {'user-query':['理想L9多少钱？','介绍下L8']}\n",
    "df = pd.DataFrame(querys)\n",
    "\n",
    "# step 1. 生成API\n",
    "api_df = get_api_df(df,category='AUTOSearch') # category 具体设置 见函数说明\n",
    "api_df = api_df.astype(str)\n",
    "\n",
    "# step 2. 获取observation \n",
    "obs_df = get_all_observation(api_df,top_k=3,env='dev') # topk返回obs数量，env环境 dev 或 arch\n",
    "obs_df"
   ]
  },
  {
   "cell_type": "markdown",
   "id": "9f9247af-a417-4115-b3f8-8f1344f92016",
   "metadata": {},
   "source": [
    "### MEDIASearch"
   ]
  },
  {
   "cell_type": "code",
   "execution_count": 3,
   "id": "8dfbd3d1-752b-4579-a231-cb86dda74688",
   "metadata": {
    "tags": []
   },
   "outputs": [
    {
     "name": "stderr",
     "output_type": "stream",
     "text": [
      "100%|██████████| 3/3 [00:07<00:00,  2.54s/it]\n"
     ]
    },
    {
     "data": {
      "text/html": [
       "<div>\n",
       "<style scoped>\n",
       "    .dataframe tbody tr th:only-of-type {\n",
       "        vertical-align: middle;\n",
       "    }\n",
       "\n",
       "    .dataframe tbody tr th {\n",
       "        vertical-align: top;\n",
       "    }\n",
       "\n",
       "    .dataframe thead th {\n",
       "        text-align: right;\n",
       "    }\n",
       "</style>\n",
       "<table border=\"1\" class=\"dataframe\">\n",
       "  <thead>\n",
       "    <tr style=\"text-align: right;\">\n",
       "      <th></th>\n",
       "      <th>user-query</th>\n",
       "      <th>Thought</th>\n",
       "      <th>API</th>\n",
       "      <th>API-NAME</th>\n",
       "      <th>API-CATEGORY</th>\n",
       "      <th>API-QUERY</th>\n",
       "      <th>API-TAG</th>\n",
       "      <th>slots</th>\n",
       "      <th>observation</th>\n",
       "    </tr>\n",
       "  </thead>\n",
       "  <tbody>\n",
       "    <tr>\n",
       "      <th>0</th>\n",
       "      <td>推荐最近的电影</td>\n",
       "      <td>涉及影视推荐，需要生成影视推荐API完成内容推荐。</td>\n",
       "      <td>&lt;|api_start|&gt;&lt;|kvs|&gt;APINAME=&gt;MEDIASearch&lt;|kve|...</td>\n",
       "      <td>['MEDIASearch']</td>\n",
       "      <td>[]</td>\n",
       "      <td>['最近的电影']</td>\n",
       "      <td>[]</td>\n",
       "      <td>[{'APINAME': 'MEDIASearch', 'QUERY': '最近的电影', ...</td>\n",
       "      <td>[[《除暴安良》：刑警队长常勇在维护社会治安行动的过程中，发现一伙匪徒抢劫了大量现金并藏在了...</td>\n",
       "    </tr>\n",
       "    <tr>\n",
       "      <th>1</th>\n",
       "      <td>推荐最新的歌</td>\n",
       "      <td>涉及音乐相关问答，需要生成音乐推荐API完成内容推荐。</td>\n",
       "      <td>&lt;|api_start|&gt;&lt;|kvs|&gt;APINAME=&gt;MEDIASearch&lt;|kve|...</td>\n",
       "      <td>['MEDIASearch']</td>\n",
       "      <td>[]</td>\n",
       "      <td>['推荐最新的歌']</td>\n",
       "      <td>[]</td>\n",
       "      <td>[{'APINAME': 'MEDIASearch', 'QUERY': '推荐最新的歌',...</td>\n",
       "      <td>[[《做自己的太阳》：由张艺兴演唱，由Jang Woo Hyuk、Park Su Jong、...</td>\n",
       "    </tr>\n",
       "    <tr>\n",
       "      <th>2</th>\n",
       "      <td>最近有什么好的电影么？</td>\n",
       "      <td>涉及影视推荐，需要生成影视推荐API完成内容推荐。</td>\n",
       "      <td>&lt;|api_start|&gt;&lt;|kvs|&gt;APINAME=&gt;MEDIASearch&lt;|kve|...</td>\n",
       "      <td>['MEDIASearch']</td>\n",
       "      <td>[]</td>\n",
       "      <td>['最近有什么好的电影么？']</td>\n",
       "      <td>[]</td>\n",
       "      <td>[{'APINAME': 'MEDIASearch', 'QUERY': '最近有什么好的电...</td>\n",
       "      <td>[[《狂蟒之灾》：连年亏损的民间马戏团被团长连人带物贱卖给奸商，其中宫兰兰和阿丽以及其他团员...</td>\n",
       "    </tr>\n",
       "  </tbody>\n",
       "</table>\n",
       "</div>"
      ],
      "text/plain": [
       "    user-query                      Thought  \\\n",
       "0      推荐最近的电影    涉及影视推荐，需要生成影视推荐API完成内容推荐。   \n",
       "1       推荐最新的歌  涉及音乐相关问答，需要生成音乐推荐API完成内容推荐。   \n",
       "2  最近有什么好的电影么？    涉及影视推荐，需要生成影视推荐API完成内容推荐。   \n",
       "\n",
       "                                                 API         API-NAME  \\\n",
       "0  <|api_start|><|kvs|>APINAME=>MEDIASearch<|kve|...  ['MEDIASearch']   \n",
       "1  <|api_start|><|kvs|>APINAME=>MEDIASearch<|kve|...  ['MEDIASearch']   \n",
       "2  <|api_start|><|kvs|>APINAME=>MEDIASearch<|kve|...  ['MEDIASearch']   \n",
       "\n",
       "  API-CATEGORY        API-QUERY API-TAG  \\\n",
       "0           []        ['最近的电影']      []   \n",
       "1           []       ['推荐最新的歌']      []   \n",
       "2           []  ['最近有什么好的电影么？']      []   \n",
       "\n",
       "                                               slots  \\\n",
       "0  [{'APINAME': 'MEDIASearch', 'QUERY': '最近的电影', ...   \n",
       "1  [{'APINAME': 'MEDIASearch', 'QUERY': '推荐最新的歌',...   \n",
       "2  [{'APINAME': 'MEDIASearch', 'QUERY': '最近有什么好的电...   \n",
       "\n",
       "                                         observation  \n",
       "0  [[《除暴安良》：刑警队长常勇在维护社会治安行动的过程中，发现一伙匪徒抢劫了大量现金并藏在了...  \n",
       "1  [[《做自己的太阳》：由张艺兴演唱，由Jang Woo Hyuk、Park Su Jong、...  \n",
       "2  [[《狂蟒之灾》：连年亏损的民间马戏团被团长连人带物贱卖给奸商，其中宫兰兰和阿丽以及其他团员...  "
      ]
     },
     "execution_count": 3,
     "metadata": {},
     "output_type": "execute_result"
    }
   ],
   "source": [
    "querys = {'user-query':['推荐最近的电影','推荐最新的歌','最近有什么好的电影么？']}\n",
    "df = pd.DataFrame(querys)\n",
    "\n",
    "# step 1. 生成API\n",
    "api_df = get_api_df(df,category='MEDIASearch') # category 具体设置 见函数说明\n",
    "api_df = api_df.astype(str)\n",
    "\n",
    "# step 2. 获取observation\n",
    "obs_df = get_media_obs_df(api_df, top_k=10, env='testtwo') # topk返回obs数量，env环境 testtwo 或 faq\n",
    "obs_df"
   ]
  },
  {
   "cell_type": "code",
   "execution_count": null,
   "id": "6dffc252-3ee4-4d5d-a34a-bd72522b7faa",
   "metadata": {},
   "outputs": [],
   "source": [
    "def get_prompts_df(df: pd.DataFrame, oneshot_prompt: str) -> pd.DataFrame:\n",
    "    df['prompts'] = df.apply(lambda row: oneshot_prompt + f\"\"\"\n",
    "    ---\n",
    "    Background:\n",
    "    ```{row['observation']}```\n",
    "    Answer：\n",
    "    \"\"\", axis=1)\n",
    "    \n",
    "    return df"
   ]
  },
  {
   "cell_type": "code",
   "execution_count": null,
   "id": "3225a983-d148-4f8a-8109-b0c6bec815c9",
   "metadata": {},
   "outputs": [],
   "source": [
    "# step 3. 调用gpt\n",
    "oneshot_prompt = '根据参考资料回答问题' # 这部分prompt可以根据自己的需求自定义\n",
    "prompt_df = get_prompts_df(obs_df,oneshot_prompt)\n",
    "gpt4_df = get_gpt4api_df(prompt_df, message_type='', max_request_times=1, \n",
    "                         qps=2, max_concurrent=5, asyncio_flag=False) # 各参数见函数说明\n",
    "\n",
    "# step 4. 转成jsonl文件\n",
    "gpt4_df = gpt4_df.astype(str)\n",
    "gpt4_df['id'] = gpt4_df.index.astype(str)\n",
    "gpt4_df['source'] = '测试'\n",
    "sft_df = convert_csv_to_sft(gpt4_df,api_flag=True)\n",
    "sft_df.to_json('out.jsonl', orient='records', lines=True, force_ascii=False)"
   ]
  }
 ],
 "metadata": {
  "kernelspec": {
   "display_name": "Python 3 (ipykernel)",
   "language": "python",
   "name": "python3"
  },
  "language_info": {
   "codemirror_mode": {
    "name": "ipython",
    "version": 3
   },
   "file_extension": ".py",
   "mimetype": "text/x-python",
   "name": "python",
   "nbconvert_exporter": "python",
   "pygments_lexer": "ipython3",
   "version": "3.9.16"
  }
 },
 "nbformat": 4,
 "nbformat_minor": 5
}
