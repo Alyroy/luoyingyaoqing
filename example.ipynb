{
 "cells": [
  {
   "cell_type": "code",
   "execution_count": 5,
   "id": "250e5ddb-5381-4f59-8904-ad3a79dd5100",
   "metadata": {
    "tags": []
   },
   "outputs": [],
   "source": [
    "import pandas as pd\n",
    "import os\n",
    "from utils_kg_search import get_all_observation,get_api_df,get_media_obs_df\n",
    "from call_chatgpt_with_zny_asyncio import get_gpt4api_df\n",
    "from utils_data_format_conversion import convert_csv_to_sft,convert_sft_to_df"
   ]
  },
  {
   "cell_type": "markdown",
   "id": "e305b6f2-d5e5-4906-8845-8d50526e8b0c",
   "metadata": {},
   "source": [
    "### csv格式转为jsonl格式\n"
   ]
  },
  {
   "cell_type": "code",
   "execution_count": 2,
   "id": "b0695039-ca16-42be-82fd-2d6bd85e1fcc",
   "metadata": {
    "tags": []
   },
   "outputs": [
    {
     "data": {
      "text/html": [
       "<div>\n",
       "<style scoped>\n",
       "    .dataframe tbody tr th:only-of-type {\n",
       "        vertical-align: middle;\n",
       "    }\n",
       "\n",
       "    .dataframe tbody tr th {\n",
       "        vertical-align: top;\n",
       "    }\n",
       "\n",
       "    .dataframe thead th {\n",
       "        text-align: right;\n",
       "    }\n",
       "</style>\n",
       "<table border=\"1\" class=\"dataframe\">\n",
       "  <thead>\n",
       "    <tr style=\"text-align: right;\">\n",
       "      <th></th>\n",
       "      <th>id</th>\n",
       "      <th>source</th>\n",
       "      <th>messages</th>\n",
       "    </tr>\n",
       "  </thead>\n",
       "  <tbody>\n",
       "    <tr>\n",
       "      <th>0</th>\n",
       "      <td>test-1</td>\n",
       "      <td>测试</td>\n",
       "      <td>[{'role': 'user', 'content': ['世界的第三高峰是哪个']}, ...</td>\n",
       "    </tr>\n",
       "  </tbody>\n",
       "</table>\n",
       "</div>"
      ],
      "text/plain": [
       "       id source                                           messages\n",
       "0  test-1     测试  [{'role': 'user', 'content': ['世界的第三高峰是哪个']}, ..."
      ]
     },
     "execution_count": 2,
     "metadata": {},
     "output_type": "execute_result"
    }
   ],
   "source": [
    "data = {\n",
    "'id':['test-1'],\n",
    "'turn_id':[1],\n",
    "'source':['测试'],\n",
    "'user-query':['世界的第三高峰是哪个'],\n",
    "'Thought':['涉及事实问答，查询世界第三高峰的信息。'],\n",
    "'API':['<|api_start|><|kvs|>APINAME=>QASearch<|kve|><|kvs|>CATEGORY=>地理<|kve|><|kvs|>QUERY=>世界第三高峰<|kve|><|kvs|>TAG=>世界&第三高峰<|kve|><|api_end|><|api_start|><|kvs|>APINAME=>QASearch<|kve|><|kvs|>CATEGORY=>地理<|kve|><|kvs|>QUERY=>世界第三高峰<|kve|><|kvs|>TAG=>世界&第三高峰<|kve|><|api_end|>'],\n",
    "'observation':[\"[['一些内容','一些内容','一些内容']]\"],\n",
    "'assistant':['世界的第三高峰是干城章嘉峰，位于喜马拉雅山脉，海拔高达8586米。'],\n",
    "'relevant_label':['相关']\n",
    "}\n",
    "df = pd.DataFrame(data)\n",
    "sft_df = convert_csv_to_sft(df.copy(),api_flag=True)\n",
    "sft_df"
   ]
  },
  {
   "cell_type": "markdown",
   "id": "554a4e2c-ef0d-44a2-a0ff-c588f1e4ddb2",
   "metadata": {},
   "source": [
    "### jsonl格式转csv"
   ]
  },
  {
   "cell_type": "code",
   "execution_count": 3,
   "id": "eb74dd23-bcd5-424b-9d4e-bdba0bc194f7",
   "metadata": {
    "tags": []
   },
   "outputs": [
    {
     "data": {
      "text/html": [
       "<div>\n",
       "<style scoped>\n",
       "    .dataframe tbody tr th:only-of-type {\n",
       "        vertical-align: middle;\n",
       "    }\n",
       "\n",
       "    .dataframe tbody tr th {\n",
       "        vertical-align: top;\n",
       "    }\n",
       "\n",
       "    .dataframe thead th {\n",
       "        text-align: right;\n",
       "    }\n",
       "</style>\n",
       "<table border=\"1\" class=\"dataframe\">\n",
       "  <thead>\n",
       "    <tr style=\"text-align: right;\">\n",
       "      <th></th>\n",
       "      <th>id</th>\n",
       "      <th>turn_id</th>\n",
       "      <th>source</th>\n",
       "      <th>user-query</th>\n",
       "      <th>Thought</th>\n",
       "      <th>API</th>\n",
       "      <th>observation</th>\n",
       "      <th>assistant</th>\n",
       "    </tr>\n",
       "  </thead>\n",
       "  <tbody>\n",
       "    <tr>\n",
       "      <th>0</th>\n",
       "      <td>test-1</td>\n",
       "      <td>1</td>\n",
       "      <td>测试</td>\n",
       "      <td>世界的第三高峰是哪个</td>\n",
       "      <td>涉及事实问答，查询世界第三高峰的信息。</td>\n",
       "      <td>&lt;|api_start|&gt;&lt;|kvs|&gt;APINAME=&gt;QASearch&lt;|kve|&gt;&lt;|...</td>\n",
       "      <td>[[一些内容, 一些内容, 一些内容]]</td>\n",
       "      <td>世界的第三高峰是干城章嘉峰，位于喜马拉雅山脉，海拔高达8586米。</td>\n",
       "    </tr>\n",
       "  </tbody>\n",
       "</table>\n",
       "</div>"
      ],
      "text/plain": [
       "       id  turn_id source  user-query              Thought  \\\n",
       "0  test-1        1     测试  世界的第三高峰是哪个  涉及事实问答，查询世界第三高峰的信息。   \n",
       "\n",
       "                                                 API           observation  \\\n",
       "0  <|api_start|><|kvs|>APINAME=>QASearch<|kve|><|...  [[一些内容, 一些内容, 一些内容]]   \n",
       "\n",
       "                           assistant  \n",
       "0  世界的第三高峰是干城章嘉峰，位于喜马拉雅山脉，海拔高达8586米。  "
      ]
     },
     "execution_count": 3,
     "metadata": {},
     "output_type": "execute_result"
    }
   ],
   "source": [
    "jsonl_df = convert_sft_to_df(sft_df)\n",
    "jsonl_df"
   ]
  },
  {
   "cell_type": "markdown",
   "id": "2cdda53c-7082-43a4-a8c2-8139e975a6a1",
   "metadata": {},
   "source": [
    "### query生成基于API的回复"
   ]
  },
  {
   "cell_type": "code",
   "execution_count": 5,
   "id": "8c156fe4-88c3-42cd-872e-3fc3093368bd",
   "metadata": {},
   "outputs": [],
   "source": [
    "def get_prompts_df(df: pd.DataFrame, oneshot_prompt: str) -> pd.DataFrame:\n",
    "    df['prompts'] = df.apply(lambda row: oneshot_prompt + f\"\"\"\n",
    "    ---\n",
    "    Background:\n",
    "    ```{row['observation']}```\n",
    "    Answer：\n",
    "    \"\"\", axis=1)\n",
    "    \n",
    "    return df"
   ]
  },
  {
   "cell_type": "code",
   "execution_count": 8,
   "id": "c1f471b7-39ba-4e25-8f1d-ed65c259f79f",
   "metadata": {},
   "outputs": [],
   "source": [
    "querys = {'user-query':['介绍下刘翔','姚明有多高','世界上最高的山峰是什么？']}\n",
    "df = pd.DataFrame(querys)\n",
    "\n",
    "# step 1. 生成API\n",
    "api_df = get_api_df(df,category='QASearch') # category 具体设置 见函数说明。一般通用问答 出游灵感用 QASearch 汽车问答用AUTOSearch\n",
    "api_df = api_df.astype(str)\n",
    "\n",
    "# step 2. 获取observation \n",
    "obs_df = get_all_observation(api_df)\n",
    "\n",
    "# step 3. 调用gpt\n",
    "oneshot_prompt = '根据参考资料回答问题' # 这部分prompt可以根据自己的需求自定义\n",
    "prompt_df = get_prompts_df(obs_df,oneshot_prompt)\n",
    "gpt4_df = get_gpt4api_df(prompt_df, message_type='', max_request_times=1, \n",
    "                         qps=2, max_concurrent=5, asyncio_flag=False) # 各参数见函数说明 asyncio_flag=False 支持jupyter运行，=True速度更快，支持terminal运行\n",
    "\n",
    "# step 4. 转成jsonl文件\n",
    "gpt4_df = gpt4_df.astype(str)\n",
    "gpt4_df['id'] = gpt4_df.index.astype(str)\n",
    "gpt4_df['source'] = '测试'\n",
    "sft_df = convert_csv_to_sft(gpt4_df,api_flag=True)\n",
    "sft_df.to_json('out.jsonl', orient='records', lines=True, force_ascii=False)"
   ]
  },
  {
   "cell_type": "markdown",
   "id": "799fc1cd-e550-4872-88d8-9db348d63784",
   "metadata": {},
   "source": [
    "### 调取media search"
   ]
  },
  {
   "cell_type": "code",
   "execution_count": 2,
   "id": "32b29630-405e-43fd-95b5-55c5ac0eba38",
   "metadata": {
    "tags": []
   },
   "outputs": [
    {
     "name": "stderr",
     "output_type": "stream",
     "text": [
      "100%|██████████| 2/2 [00:05<00:00,  2.89s/it]\n"
     ]
    },
    {
     "data": {
      "text/html": [
       "<div>\n",
       "<style scoped>\n",
       "    .dataframe tbody tr th:only-of-type {\n",
       "        vertical-align: middle;\n",
       "    }\n",
       "\n",
       "    .dataframe tbody tr th {\n",
       "        vertical-align: top;\n",
       "    }\n",
       "\n",
       "    .dataframe thead th {\n",
       "        text-align: right;\n",
       "    }\n",
       "</style>\n",
       "<table border=\"1\" class=\"dataframe\">\n",
       "  <thead>\n",
       "    <tr style=\"text-align: right;\">\n",
       "      <th></th>\n",
       "      <th>user-query</th>\n",
       "      <th>Thought</th>\n",
       "      <th>API</th>\n",
       "      <th>API-NAME</th>\n",
       "      <th>API-CATEGORY</th>\n",
       "      <th>API-QUERY</th>\n",
       "      <th>API-TAG</th>\n",
       "    </tr>\n",
       "  </thead>\n",
       "  <tbody>\n",
       "    <tr>\n",
       "      <th>0</th>\n",
       "      <td>最近有什么电影</td>\n",
       "      <td>涉及影视推荐，需要生成影视推荐API完成内容推荐。</td>\n",
       "      <td>&lt;|api_start|&gt;&lt;|kvs|&gt;APINAME=&gt;MEDIASearch&lt;|kve|...</td>\n",
       "      <td>[MEDIASearch]</td>\n",
       "      <td>[]</td>\n",
       "      <td>[最近的电影]</td>\n",
       "      <td>[]</td>\n",
       "    </tr>\n",
       "    <tr>\n",
       "      <th>1</th>\n",
       "      <td>最近有什么好听的音乐</td>\n",
       "      <td>涉及影视推荐，需要生成影视推荐API完成内容推荐。</td>\n",
       "      <td>&lt;|api_start|&gt;&lt;|kvs|&gt;APINAME=&gt;MEDIASearch&lt;|kve|...</td>\n",
       "      <td>[MEDIASearch]</td>\n",
       "      <td>[]</td>\n",
       "      <td>[最近有什么好听的音乐]</td>\n",
       "      <td>[]</td>\n",
       "    </tr>\n",
       "  </tbody>\n",
       "</table>\n",
       "</div>"
      ],
      "text/plain": [
       "   user-query                    Thought  \\\n",
       "0     最近有什么电影  涉及影视推荐，需要生成影视推荐API完成内容推荐。   \n",
       "1  最近有什么好听的音乐  涉及影视推荐，需要生成影视推荐API完成内容推荐。   \n",
       "\n",
       "                                                 API       API-NAME  \\\n",
       "0  <|api_start|><|kvs|>APINAME=>MEDIASearch<|kve|...  [MEDIASearch]   \n",
       "1  <|api_start|><|kvs|>APINAME=>MEDIASearch<|kve|...  [MEDIASearch]   \n",
       "\n",
       "  API-CATEGORY     API-QUERY API-TAG  \n",
       "0           []       [最近的电影]      []  \n",
       "1           []  [最近有什么好听的音乐]      []  "
      ]
     },
     "execution_count": 2,
     "metadata": {},
     "output_type": "execute_result"
    }
   ],
   "source": [
    "querys = {'user-query':['最近有什么电影','最近有什么好听的音乐']}\n",
    "df = pd.DataFrame(querys)\n",
    "\n",
    "# 1. API\n",
    "api_df = get_api_df(df, category='MEDIASearch') # 忽略 category tag 为空的情况 get_media_obs_df 会单独解析API，提取slots\n",
    "api_df"
   ]
  },
  {
   "cell_type": "code",
   "execution_count": 3,
   "id": "2529c6ce-152e-4b2c-9ff4-8f93f5b46cf1",
   "metadata": {
    "tags": []
   },
   "outputs": [
    {
     "data": {
      "text/plain": [
       "'<|api_start|><|kvs|>APINAME=>MEDIASearch<|kve|><|kvs|>QUERY=>最近的电影<|kve|><|kvs|>RANKTYPE=>最新<|kve|><|kvs|>MEDIATYPE=>视频<|kve|><|kvs|>CHANNEL=>电影<|kve|><|api_end|><|eoa|>'"
      ]
     },
     "execution_count": 3,
     "metadata": {},
     "output_type": "execute_result"
    }
   ],
   "source": [
    "api_df.iloc[0]['API']"
   ]
  },
  {
   "cell_type": "code",
   "execution_count": 6,
   "id": "0b7b040b-680e-4eb9-9dc8-52580b654a2c",
   "metadata": {
    "tags": []
   },
   "outputs": [
    {
     "data": {
      "text/html": [
       "<div>\n",
       "<style scoped>\n",
       "    .dataframe tbody tr th:only-of-type {\n",
       "        vertical-align: middle;\n",
       "    }\n",
       "\n",
       "    .dataframe tbody tr th {\n",
       "        vertical-align: top;\n",
       "    }\n",
       "\n",
       "    .dataframe thead th {\n",
       "        text-align: right;\n",
       "    }\n",
       "</style>\n",
       "<table border=\"1\" class=\"dataframe\">\n",
       "  <thead>\n",
       "    <tr style=\"text-align: right;\">\n",
       "      <th></th>\n",
       "      <th>user-query</th>\n",
       "      <th>Thought</th>\n",
       "      <th>API</th>\n",
       "      <th>API-NAME</th>\n",
       "      <th>API-CATEGORY</th>\n",
       "      <th>API-QUERY</th>\n",
       "      <th>API-TAG</th>\n",
       "      <th>slots</th>\n",
       "      <th>observation</th>\n",
       "    </tr>\n",
       "  </thead>\n",
       "  <tbody>\n",
       "    <tr>\n",
       "      <th>0</th>\n",
       "      <td>最近有什么电影</td>\n",
       "      <td>涉及影视推荐，需要生成影视推荐API完成内容推荐。</td>\n",
       "      <td>&lt;|api_start|&gt;&lt;|kvs|&gt;APINAME=&gt;MEDIASearch&lt;|kve|...</td>\n",
       "      <td>[MEDIASearch]</td>\n",
       "      <td>[]</td>\n",
       "      <td>[最近的电影]</td>\n",
       "      <td>[]</td>\n",
       "      <td>[{'APINAME': 'MEDIASearch', 'QUERY': '最近的电影', ...</td>\n",
       "      <td>[[《僵尸参将》：夜黑风高，石道长与徒弟偶遇群僵发狂，吸食斩首阴兵，出手平乱后发现有人借阴兵...</td>\n",
       "    </tr>\n",
       "    <tr>\n",
       "      <th>1</th>\n",
       "      <td>最近有什么好听的音乐</td>\n",
       "      <td>涉及影视推荐，需要生成影视推荐API完成内容推荐。</td>\n",
       "      <td>&lt;|api_start|&gt;&lt;|kvs|&gt;APINAME=&gt;MEDIASearch&lt;|kve|...</td>\n",
       "      <td>[MEDIASearch]</td>\n",
       "      <td>[]</td>\n",
       "      <td>[最近有什么好听的音乐]</td>\n",
       "      <td>[]</td>\n",
       "      <td>[{'APINAME': 'MEDIASearch', 'QUERY': '最近有什么好听的...</td>\n",
       "      <td>[[《北辙南辕》：本剧以当代女性都市生活为背景，讲述了五个成长经历、性情禀赋各异的女性共同建...</td>\n",
       "    </tr>\n",
       "  </tbody>\n",
       "</table>\n",
       "</div>"
      ],
      "text/plain": [
       "   user-query                    Thought  \\\n",
       "0     最近有什么电影  涉及影视推荐，需要生成影视推荐API完成内容推荐。   \n",
       "1  最近有什么好听的音乐  涉及影视推荐，需要生成影视推荐API完成内容推荐。   \n",
       "\n",
       "                                                 API       API-NAME  \\\n",
       "0  <|api_start|><|kvs|>APINAME=>MEDIASearch<|kve|...  [MEDIASearch]   \n",
       "1  <|api_start|><|kvs|>APINAME=>MEDIASearch<|kve|...  [MEDIASearch]   \n",
       "\n",
       "  API-CATEGORY     API-QUERY API-TAG  \\\n",
       "0           []       [最近的电影]      []   \n",
       "1           []  [最近有什么好听的音乐]      []   \n",
       "\n",
       "                                               slots  \\\n",
       "0  [{'APINAME': 'MEDIASearch', 'QUERY': '最近的电影', ...   \n",
       "1  [{'APINAME': 'MEDIASearch', 'QUERY': '最近有什么好听的...   \n",
       "\n",
       "                                         observation  \n",
       "0  [[《僵尸参将》：夜黑风高，石道长与徒弟偶遇群僵发狂，吸食斩首阴兵，出手平乱后发现有人借阴兵...  \n",
       "1  [[《北辙南辕》：本剧以当代女性都市生活为背景，讲述了五个成长经历、性情禀赋各异的女性共同建...  "
      ]
     },
     "execution_count": 6,
     "metadata": {},
     "output_type": "execute_result"
    }
   ],
   "source": [
    "# 2. obs\n",
    "obs_df = get_media_obs_df(api_df)\n",
    "obs_df"
   ]
  },
  {
   "cell_type": "code",
   "execution_count": null,
   "id": "7da6cc80-293b-4f1c-8e69-16fc223eddcb",
   "metadata": {},
   "outputs": [],
   "source": []
  }
 ],
 "metadata": {
  "kernelspec": {
   "display_name": "Python 3 (ipykernel)",
   "language": "python",
   "name": "python3"
  },
  "language_info": {
   "codemirror_mode": {
    "name": "ipython",
    "version": 3
   },
   "file_extension": ".py",
   "mimetype": "text/x-python",
   "name": "python",
   "nbconvert_exporter": "python",
   "pygments_lexer": "ipython3",
   "version": "3.9.16"
  }
 },
 "nbformat": 4,
 "nbformat_minor": 5
}
