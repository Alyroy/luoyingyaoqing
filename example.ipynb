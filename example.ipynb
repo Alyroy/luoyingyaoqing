{
 "cells": [
  {
   "cell_type": "code",
   "execution_count": 1,
   "id": "250e5ddb-5381-4f59-8904-ad3a79dd5100",
   "metadata": {
    "tags": []
   },
   "outputs": [],
   "source": [
    "import pandas as pd\n",
    "import os\n",
    "from utils_kg_search import get_all_observation,get_api_df\n",
    "from call_chatgpt_with_zny_asyncio import get_gpt4api_df\n",
    "from utils_data_format_conversion import convert_csv_to_sft"
   ]
  },
  {
   "cell_type": "markdown",
   "id": "e305b6f2-d5e5-4906-8845-8d50526e8b0c",
   "metadata": {},
   "source": [
    "### csv格式转为jsonl格式\n"
   ]
  },
  {
   "cell_type": "code",
   "execution_count": 3,
   "id": "b0695039-ca16-42be-82fd-2d6bd85e1fcc",
   "metadata": {
    "tags": []
   },
   "outputs": [],
   "source": [
    "data = {\n",
    "'id':['test-1'],\n",
    "'turn_id':[1],\n",
    "'source':['测试'],\n",
    "'user-query':['世界的第三高峰是哪个'],\n",
    "'Thought':['涉及事实问答，查询世界第三高峰的信息。'],\n",
    "'API':['<|api_start|><|kvs|>APINAME=>QASearch<|kve|><|kvs|>CATEGORY=>地理<|kve|><|kvs|>QUERY=>世界第三高峰<|kve|><|kvs|>TAG=>世界&第三高峰<|kve|><|api_end|><|api_start|><|kvs|>APINAME=>QASearch<|kve|><|kvs|>CATEGORY=>地理<|kve|><|kvs|>QUERY=>世界第三高峰<|kve|><|kvs|>TAG=>世界&第三高峰<|kve|><|api_end|>'],\n",
    "'observation':[\"[['一些内容','一些内容','一些内容']]\"],\n",
    "'assistant':['世界的第三高峰是干城章嘉峰，位于喜马拉雅山脉，海拔高达8586米。'],\n",
    "'relevant_label':['相关']\n",
    "}\n",
    "df = pd.DataFrame(data)\n",
    "sft_df = convert_csv_to_sft(df.copy(),api_flag=True)\n"
   ]
  },
  {
   "cell_type": "markdown",
   "id": "2cdda53c-7082-43a4-a8c2-8139e975a6a1",
   "metadata": {},
   "source": [
    "### query生成基于API的回复"
   ]
  },
  {
   "cell_type": "code",
   "execution_count": 5,
   "id": "8c156fe4-88c3-42cd-872e-3fc3093368bd",
   "metadata": {},
   "outputs": [],
   "source": [
    "def get_prompts_df(df: pd.DataFrame, oneshot_prompt: str) -> pd.DataFrame:\n",
    "    df['prompts'] = df.apply(lambda row: oneshot_prompt + f\"\"\"\n",
    "    ---\n",
    "    Background:\n",
    "    ```{row['observation']}```\n",
    "    Answer：\n",
    "    \"\"\", axis=1)\n",
    "    \n",
    "    return df"
   ]
  },
  {
   "cell_type": "code",
   "execution_count": 8,
   "id": "c1f471b7-39ba-4e25-8f1d-ed65c259f79f",
   "metadata": {},
   "outputs": [],
   "source": [
    "querys = {'user-query':['介绍下刘翔','姚明有多高','世界上最高的山峰是什么？']}\n",
    "df = pd.DataFrame(querys)\n",
    "\n",
    "# step 1. 生成API\n",
    "api_df = get_api_df(df,category='QASearch') # category 具体设置 见函数说明\n",
    "api_df = api_df.astype(str)\n",
    "\n",
    "# step 2. 获取observation \n",
    "obs_df = get_all_observation(api_df)\n",
    "\n",
    "# step 3. 调用gpt\n",
    "oneshot_prompt = '根据参考资料回答问题' # 这部分prompt可以根据自己的需求自定义\n",
    "prompt_df = get_prompts_df(obs_df,oneshot_prompt)\n",
    "gpt4_df = get_gpt4api_df(prompt_df, message_type='', max_request_times=1, \n",
    "                         qps=2, max_concurrent=5, asyncio_flag=False) # 各参数见函数说明 asyncio_flag=False 支持jupyter运行，=True速度更快，支持terminal运行\n",
    "\n",
    "# step 4. 转成jsonl文件\n",
    "gpt4_df = gpt4_df.astype(str)\n",
    "gpt4_df['id'] = gpt4_df.index.astype(str)\n",
    "gpt4_df['source'] = '测试'\n",
    "sft_df = convert_csv_to_sft(gpt4_df,api_flag=True)\n",
    "sft_df.to_json('out.jsonl', orient='records', lines=True, force_ascii=False)"
   ]
  }
 ],
 "metadata": {
  "kernelspec": {
   "display_name": "Python 3 (ipykernel)",
   "language": "python",
   "name": "python3"
  },
  "language_info": {
   "codemirror_mode": {
    "name": "ipython",
    "version": 3
   },
   "file_extension": ".py",
   "mimetype": "text/x-python",
   "name": "python",
   "nbconvert_exporter": "python",
   "pygments_lexer": "ipython3",
   "version": "3.9.16"
  }
 },
 "nbformat": 4,
 "nbformat_minor": 5
}
